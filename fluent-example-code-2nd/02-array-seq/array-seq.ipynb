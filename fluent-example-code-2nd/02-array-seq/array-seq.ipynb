{
 "cells": [
  {
   "cell_type": "markdown",
   "id": "803976ca-093c-4892-bdf8-ffd6788d10af",
   "metadata": {
    "tags": []
   },
   "source": [
    "## 列表推导式和生成器表达式"
   ]
  },
  {
   "cell_type": "markdown",
   "id": "dcd8382b-d0d3-4586-888e-cbca3b8ac166",
   "metadata": {
    "tags": []
   },
   "source": [
    "### 基于一个字符串构建一个 Unicode 码点列表"
   ]
  },
  {
   "cell_type": "code",
   "execution_count": 1,
   "id": "8d297096-353e-4625-998a-834d59c89e76",
   "metadata": {},
   "outputs": [
    {
     "data": {
      "text/plain": [
       "[36, 162, 163, 165, 8364, 164]"
      ]
     },
     "execution_count": 1,
     "metadata": {},
     "output_type": "execute_result"
    }
   ],
   "source": [
    "symbols = '$¢£¥€¤'\n",
    "codes = []\n",
    "\n",
    "for symbol in symbols:\n",
    "    codes.append(ord(symbol))\n",
    "\n",
    "codes"
   ]
  },
  {
   "cell_type": "markdown",
   "id": "f6a203f3-2949-4e7d-b450-cc286d5c5f3a",
   "metadata": {
    "tags": []
   },
   "source": [
    "### 使用列表推导式基于一个字符串构建一个 Unicode 码点列表"
   ]
  },
  {
   "cell_type": "code",
   "execution_count": 2,
   "id": "3dddbb52-4b26-4aff-a9d9-b2984848ee87",
   "metadata": {},
   "outputs": [
    {
     "data": {
      "text/plain": [
       "[36, 162, 163, 165, 8364, 164]"
      ]
     },
     "execution_count": 2,
     "metadata": {},
     "output_type": "execute_result"
    }
   ],
   "source": [
    "symbols = '$¢£¥€¤'\n",
    "\n",
    "codes = [ord(symbol) for symbol in symbols]\n",
    "codes"
   ]
  },
  {
   "cell_type": "markdown",
   "id": "69044c8f-b83e-48d2-97c4-5bee9a6a6738",
   "metadata": {},
   "source": [
    "#### 列表推导式和生成器表达式的局部作用域"
   ]
  },
  {
   "cell_type": "code",
   "execution_count": 3,
   "id": "ad970777-3df1-4f6d-9e4b-1b89629164ae",
   "metadata": {},
   "outputs": [
    {
     "data": {
      "text/plain": [
       "'ABC'"
      ]
     },
     "execution_count": 3,
     "metadata": {},
     "output_type": "execute_result"
    }
   ],
   "source": [
    "x = 'ABC'\n",
    "codes = [ord(x) for x in x]\n",
    "x"
   ]
  },
  {
   "cell_type": "code",
   "execution_count": 4,
   "id": "dc555dfe-0d6a-4be8-8d9d-2de3319aa905",
   "metadata": {},
   "outputs": [
    {
     "data": {
      "text/plain": [
       "[65, 66, 67]"
      ]
     },
     "execution_count": 4,
     "metadata": {},
     "output_type": "execute_result"
    }
   ],
   "source": [
    "codes"
   ]
  },
  {
   "cell_type": "code",
   "execution_count": 5,
   "id": "c2fcb203-c6da-40cd-8d6e-276bda8b4c35",
   "metadata": {},
   "outputs": [],
   "source": [
    "# python 3.10\n",
    "# codes = [last := ord(c) for c in x]\n",
    "# last"
   ]
  },
  {
   "cell_type": "markdown",
   "id": "88fc6d76-d68c-40e6-b2e5-f5d5b1c96267",
   "metadata": {
    "tags": []
   },
   "source": [
    "### 使用列表推导式和 map/filter 组合构建同一个列表"
   ]
  },
  {
   "cell_type": "code",
   "execution_count": 6,
   "id": "789151b8-392e-4588-9177-a96a67cd3d13",
   "metadata": {},
   "outputs": [
    {
     "data": {
      "text/plain": [
       "[162, 163, 165, 8364, 164]"
      ]
     },
     "execution_count": 6,
     "metadata": {},
     "output_type": "execute_result"
    }
   ],
   "source": [
    "symbols = '$¢£¥€¤'\n",
    "beyond_ascii = [ord(s) for s in symbols if ord(s) > 127]\n",
    "beyond_ascii"
   ]
  },
  {
   "cell_type": "code",
   "execution_count": 7,
   "id": "40b99535-e5c6-4c03-adbd-43c584a6eb1a",
   "metadata": {},
   "outputs": [
    {
     "data": {
      "text/plain": [
       "[162, 163, 165, 8364, 164]"
      ]
     },
     "execution_count": 7,
     "metadata": {},
     "output_type": "execute_result"
    }
   ],
   "source": [
    "beyond_ascii = list(filter(lambda c: c > 127, map(ord, symbols)))\n",
    "beyond_ascii"
   ]
  },
  {
   "cell_type": "markdown",
   "id": "a4969502-20c4-4a68-b155-c5d25932ab0a",
   "metadata": {
    "tags": []
   },
   "source": [
    "### 使用列表推导式计算笛卡儿积"
   ]
  },
  {
   "cell_type": "code",
   "execution_count": 8,
   "id": "ad01f2fc-4d38-40a2-8e2a-b2d206418ee2",
   "metadata": {},
   "outputs": [
    {
     "data": {
      "text/plain": [
       "[('black', 'S'),\n",
       " ('black', 'M'),\n",
       " ('black', 'L'),\n",
       " ('white', 'S'),\n",
       " ('white', 'M'),\n",
       " ('white', 'L')]"
      ]
     },
     "execution_count": 8,
     "metadata": {},
     "output_type": "execute_result"
    }
   ],
   "source": [
    "colors = ['black', 'white']\n",
    "sizes = ['S', 'M', 'L']\n",
    "tshirts = [(color, size) for color in colors for size in sizes]\n",
    "tshirts"
   ]
  },
  {
   "cell_type": "code",
   "execution_count": 9,
   "id": "46e6b04c-be03-459a-8fae-7430b53b1a35",
   "metadata": {},
   "outputs": [
    {
     "name": "stdout",
     "output_type": "stream",
     "text": [
      "('black', 'S')\n",
      "('black', 'M')\n",
      "('black', 'L')\n",
      "('white', 'S')\n",
      "('white', 'M')\n",
      "('white', 'L')\n"
     ]
    }
   ],
   "source": [
    "for color in colors:\n",
    "    for size in sizes:\n",
    "        print((color, size))"
   ]
  },
  {
   "cell_type": "code",
   "execution_count": 10,
   "id": "7f3e81ec-f61b-4c23-a79e-5fba32bccb8a",
   "metadata": {},
   "outputs": [
    {
     "data": {
      "text/plain": [
       "[('black', 'S'),\n",
       " ('black', 'M'),\n",
       " ('black', 'L'),\n",
       " ('white', 'S'),\n",
       " ('white', 'M'),\n",
       " ('white', 'L')]"
      ]
     },
     "execution_count": 10,
     "metadata": {},
     "output_type": "execute_result"
    }
   ],
   "source": [
    "# 加个换行提升可读性\n",
    "tshirts = [(color, size) for color in colors \n",
    "           for size in sizes]\n",
    "tshirts"
   ]
  },
  {
   "cell_type": "markdown",
   "id": "0e82b2c9-b8ef-44fb-9005-711c18737595",
   "metadata": {
    "tags": []
   },
   "source": [
    "### 使用生成器表达式构建一个元组和一个数组"
   ]
  },
  {
   "cell_type": "code",
   "execution_count": 11,
   "id": "8bebf867-be6b-4dc4-89e1-d5bfd34e36c0",
   "metadata": {},
   "outputs": [
    {
     "data": {
      "text/plain": [
       "(36, 162, 163, 165, 8364, 164)"
      ]
     },
     "execution_count": 11,
     "metadata": {},
     "output_type": "execute_result"
    }
   ],
   "source": [
    "symbols = '$¢£¥€¤'\n",
    "tuple(ord(symbol) for symbol in symbols)"
   ]
  },
  {
   "cell_type": "code",
   "execution_count": 12,
   "id": "94d79b30-f62d-468c-b827-653be84d5ea6",
   "metadata": {},
   "outputs": [
    {
     "data": {
      "text/plain": [
       "array('I', [36, 162, 163, 165, 8364, 164])"
      ]
     },
     "execution_count": 12,
     "metadata": {},
     "output_type": "execute_result"
    }
   ],
   "source": [
    "import array\n",
    "\n",
    "array.array('I', (ord(symbol) for symbol in symbols))"
   ]
  },
  {
   "cell_type": "markdown",
   "id": "8ed2cc1d-782c-4a26-8577-329f49701496",
   "metadata": {
    "tags": []
   },
   "source": [
    "### 使用生成器表达式计算笛卡儿积"
   ]
  },
  {
   "cell_type": "code",
   "execution_count": 13,
   "id": "a2cc0488-acfe-42b9-a12e-65627a0478f6",
   "metadata": {},
   "outputs": [
    {
     "name": "stdout",
     "output_type": "stream",
     "text": [
      "black S\n",
      "black M\n",
      "black L\n",
      "white S\n",
      "white M\n",
      "white L\n"
     ]
    }
   ],
   "source": [
    "colors = ['black', 'white']\n",
    "sizes = ['S', 'M', 'L']\n",
    "\n",
    "for tshirt in ('%s %s' % (c, s) for c in colors for s in sizes):\n",
    "    print(tshirt)"
   ]
  },
  {
   "cell_type": "markdown",
   "id": "8112eb8d-060c-4134-99ba-70a11d160596",
   "metadata": {
    "tags": []
   },
   "source": [
    "## 元祖不仅仅是不可变列表"
   ]
  },
  {
   "cell_type": "markdown",
   "id": "7a0523d4-4297-41d4-83e9-4f38e23ae31b",
   "metadata": {
    "tags": []
   },
   "source": [
    "### 把元组当作记录使用"
   ]
  },
  {
   "cell_type": "code",
   "execution_count": 14,
   "id": "fea6dbdd-3cf4-43f6-b727-3d7959b60a76",
   "metadata": {},
   "outputs": [
    {
     "name": "stdout",
     "output_type": "stream",
     "text": [
      "BRA/CE342567\n",
      "ESP/XDA205856\n",
      "USA/31195855\n"
     ]
    }
   ],
   "source": [
    "lax_coordinates = (33.9425, -118.408056)\n",
    "city, year, pop, chg, area = ('Tokey', 2003, 32_450, 0.66, 8014)\n",
    "traveler_ids = [('USA', '31195855'), ('BRA', 'CE342567'), ('ESP', 'XDA205856')]\n",
    "\n",
    "for passport in sorted(traveler_ids):\n",
    "    print('%s/%s' % passport)"
   ]
  },
  {
   "cell_type": "code",
   "execution_count": 15,
   "id": "197df6cd-5136-4d8f-b98b-20a37d18c560",
   "metadata": {},
   "outputs": [
    {
     "name": "stdout",
     "output_type": "stream",
     "text": [
      "USA\n",
      "BRA\n",
      "ESP\n"
     ]
    }
   ],
   "source": [
    "for country, _ in traveler_ids:\n",
    "    print(country)"
   ]
  },
  {
   "cell_type": "markdown",
   "id": "fab8fe66-8859-4599-b766-dac741168c04",
   "metadata": {},
   "source": [
    "### 用作不可变列表"
   ]
  },
  {
   "cell_type": "code",
   "execution_count": 16,
   "id": "7924e67b-f510-4380-9433-e105c5324911",
   "metadata": {},
   "outputs": [
    {
     "data": {
      "text/plain": [
       "True"
      ]
     },
     "execution_count": 16,
     "metadata": {},
     "output_type": "execute_result"
    }
   ],
   "source": [
    "a = (10, 'alpha', [1,2])\n",
    "b = (10, 'alpha', [1,2])\n",
    "a == b"
   ]
  },
  {
   "cell_type": "code",
   "execution_count": 17,
   "id": "4a2139bc-55da-41c9-b866-4559488dc30a",
   "metadata": {},
   "outputs": [
    {
     "data": {
      "text/plain": [
       "False"
      ]
     },
     "execution_count": 17,
     "metadata": {},
     "output_type": "execute_result"
    }
   ],
   "source": [
    "b[-1].append(99)\n",
    "a == b"
   ]
  },
  {
   "cell_type": "code",
   "execution_count": 18,
   "id": "6af0e55b-3606-4f99-b06d-314e82ef57af",
   "metadata": {},
   "outputs": [
    {
     "data": {
      "text/plain": [
       "(10, 'alpha', [1, 2, 99])"
      ]
     },
     "execution_count": 18,
     "metadata": {},
     "output_type": "execute_result"
    }
   ],
   "source": [
    "b"
   ]
  },
  {
   "cell_type": "code",
   "execution_count": 19,
   "id": "58320888-71a9-445d-8077-a081942d09e9",
   "metadata": {},
   "outputs": [
    {
     "data": {
      "text/plain": [
       "True"
      ]
     },
     "execution_count": 19,
     "metadata": {},
     "output_type": "execute_result"
    }
   ],
   "source": [
    "def fixed(o):\n",
    "    try:\n",
    "        hash(o)\n",
    "    except TypeError:\n",
    "        return False\n",
    "    return True\n",
    "\n",
    "\n",
    "tf = (10, 'alpha', (1,2)) # 不包含可变元素\n",
    "tm = (10, 'alpha', [1,2]) # 包含可变元素 list\n",
    "fixed(tf)"
   ]
  },
  {
   "cell_type": "code",
   "execution_count": 20,
   "id": "40767a24-5270-4aea-a8fc-377b5200b712",
   "metadata": {},
   "outputs": [
    {
     "data": {
      "text/plain": [
       "False"
      ]
     },
     "execution_count": 20,
     "metadata": {},
     "output_type": "execute_result"
    }
   ],
   "source": [
    "fixed(tm)"
   ]
  },
  {
   "cell_type": "markdown",
   "id": "1305b3d1-5006-4edb-bd4f-0c3a55e4bcf8",
   "metadata": {},
   "source": [
    "## 序列和可迭代对象拆包"
   ]
  },
  {
   "cell_type": "markdown",
   "id": "14cd6681-d518-4100-b1c3-c38aa1e5c9b5",
   "metadata": {},
   "source": [
    "### 并行赋值"
   ]
  },
  {
   "cell_type": "code",
   "execution_count": 21,
   "id": "20b1541f-b4b3-43ba-8440-21f5ea3d175d",
   "metadata": {},
   "outputs": [
    {
     "data": {
      "text/plain": [
       "33.9425"
      ]
     },
     "execution_count": 21,
     "metadata": {},
     "output_type": "execute_result"
    }
   ],
   "source": [
    "lax_corrdinates = (33.9425, -118.408056)\n",
    "latitude, longitude = lax_corrdinates # unpacking\n",
    "latitude"
   ]
  },
  {
   "cell_type": "code",
   "execution_count": 22,
   "id": "1fb2b0bf-853f-4655-9ebc-702f9fcc889a",
   "metadata": {},
   "outputs": [
    {
     "data": {
      "text/plain": [
       "-118.408056"
      ]
     },
     "execution_count": 22,
     "metadata": {},
     "output_type": "execute_result"
    }
   ],
   "source": [
    "longitude"
   ]
  },
  {
   "cell_type": "code",
   "execution_count": 23,
   "id": "f5563799-68fa-47dd-9895-338342e8d978",
   "metadata": {},
   "outputs": [
    {
     "data": {
      "text/plain": [
       "(2, 4)"
      ]
     },
     "execution_count": 23,
     "metadata": {},
     "output_type": "execute_result"
    }
   ],
   "source": [
    "# divmod() 函数把除数和余数运算结果结合起来，返回一个包含商和余数的元组(a // b, a % b)\n",
    "divmod(20, 8)"
   ]
  },
  {
   "cell_type": "code",
   "execution_count": 24,
   "id": "26bf3fe2-31e1-4899-a100-f4ee5fe37a14",
   "metadata": {},
   "outputs": [
    {
     "data": {
      "text/plain": [
       "(2, 4)"
      ]
     },
     "execution_count": 24,
     "metadata": {},
     "output_type": "execute_result"
    }
   ],
   "source": [
    "t = (20, 8)\n",
    "divmod(*t)"
   ]
  },
  {
   "cell_type": "code",
   "execution_count": 25,
   "id": "289a93f7-5e6a-451f-b573-79d5b6be47cd",
   "metadata": {},
   "outputs": [
    {
     "data": {
      "text/plain": [
       "(2, 4)"
      ]
     },
     "execution_count": 25,
     "metadata": {},
     "output_type": "execute_result"
    }
   ],
   "source": [
    "quotient, remainder = divmod(*t)\n",
    "quotient, remainder"
   ]
  },
  {
   "cell_type": "code",
   "execution_count": 26,
   "id": "507ee0ed-8f03-4ae1-8dce-f085b91212ac",
   "metadata": {},
   "outputs": [
    {
     "data": {
      "text/plain": [
       "'id_rsa.pub'"
      ]
     },
     "execution_count": 26,
     "metadata": {},
     "output_type": "execute_result"
    }
   ],
   "source": [
    "import os\n",
    "\n",
    "_, filename = os.path.split('/home/planning/.ssh/id_rsa.pub')\n",
    "filename"
   ]
  },
  {
   "cell_type": "markdown",
   "id": "c66c64ba-1fc1-4dde-976e-589a6e71fc0e",
   "metadata": {},
   "source": [
    "### 使用 * 获取余下的项"
   ]
  },
  {
   "cell_type": "code",
   "execution_count": 27,
   "id": "773fcea8-d64e-42c8-8426-86ddc6fd0ac2",
   "metadata": {},
   "outputs": [
    {
     "data": {
      "text/plain": [
       "(0, 1, [2, 3, 4])"
      ]
     },
     "execution_count": 27,
     "metadata": {},
     "output_type": "execute_result"
    }
   ],
   "source": [
    "a, b, *rest = range(5)\n",
    "a, b, rest"
   ]
  },
  {
   "cell_type": "code",
   "execution_count": 28,
   "id": "7b8347c0-2bff-4493-9978-5c6b28b413ad",
   "metadata": {},
   "outputs": [
    {
     "data": {
      "text/plain": [
       "(0, 1, [2])"
      ]
     },
     "execution_count": 28,
     "metadata": {},
     "output_type": "execute_result"
    }
   ],
   "source": [
    "a, b, *rest = range(3)\n",
    "a, b, rest"
   ]
  },
  {
   "cell_type": "code",
   "execution_count": 29,
   "id": "9ee8d6f8-7e39-4f62-a58f-71b3b07aeae1",
   "metadata": {},
   "outputs": [
    {
     "data": {
      "text/plain": [
       "(0, 1, [])"
      ]
     },
     "execution_count": 29,
     "metadata": {},
     "output_type": "execute_result"
    }
   ],
   "source": [
    "a, b, *rest = range(2)\n",
    "a, b, rest"
   ]
  },
  {
   "cell_type": "code",
   "execution_count": 30,
   "id": "ba2bb7dd-727e-491e-84f3-87d42e2050e3",
   "metadata": {},
   "outputs": [
    {
     "data": {
      "text/plain": [
       "(0, [1, 2], 3, 4)"
      ]
     },
     "execution_count": 30,
     "metadata": {},
     "output_type": "execute_result"
    }
   ],
   "source": [
    "a, *body, c, d = range(5)\n",
    "a, body, c, d"
   ]
  },
  {
   "cell_type": "code",
   "execution_count": 31,
   "id": "0dcffab2-c2df-4619-8fee-e985c75f1956",
   "metadata": {},
   "outputs": [
    {
     "data": {
      "text/plain": [
       "([0, 1], 2, 3, 4)"
      ]
     },
     "execution_count": 31,
     "metadata": {},
     "output_type": "execute_result"
    }
   ],
   "source": [
    "*head, b , c, d = range(5)\n",
    "head, b, c, d"
   ]
  },
  {
   "cell_type": "markdown",
   "id": "af832849-edaf-4abc-a556-5a2c274541ab",
   "metadata": {},
   "source": [
    "### 在函数调用和序列字面量中使用 * 拆包"
   ]
  },
  {
   "cell_type": "code",
   "execution_count": 32,
   "id": "9decb0cb-a765-4a54-9603-558e50008c86",
   "metadata": {},
   "outputs": [
    {
     "data": {
      "text/plain": [
       "(1, 2, 3, 4, (5, 6))"
      ]
     },
     "execution_count": 32,
     "metadata": {},
     "output_type": "execute_result"
    }
   ],
   "source": [
    "def fun(a, b, c, d, *rest):\n",
    "    return a, b, c, d, rest\n",
    "\n",
    "\n",
    "fun(*[1, 2], 3, *range(4,7))"
   ]
  },
  {
   "cell_type": "code",
   "execution_count": 33,
   "id": "4cbde40c-9782-40f2-bcd3-f1017e8a63d9",
   "metadata": {},
   "outputs": [
    {
     "data": {
      "text/plain": [
       "(0, 1, 2, 3, 4)"
      ]
     },
     "execution_count": 33,
     "metadata": {},
     "output_type": "execute_result"
    }
   ],
   "source": [
    "*range(4), 4"
   ]
  },
  {
   "cell_type": "code",
   "execution_count": 34,
   "id": "6b5301bb-1ae8-4ca5-a769-7f11141d6d19",
   "metadata": {},
   "outputs": [
    {
     "data": {
      "text/plain": [
       "[0, 1, 2, 3, 4]"
      ]
     },
     "execution_count": 34,
     "metadata": {},
     "output_type": "execute_result"
    }
   ],
   "source": [
    "[*range(4), 4]"
   ]
  },
  {
   "cell_type": "code",
   "execution_count": 35,
   "id": "fa3ba945-3c95-493a-9dd2-b158da998ffb",
   "metadata": {},
   "outputs": [
    {
     "data": {
      "text/plain": [
       "{0, 1, 2, 3, 4, 5, 6, 7}"
      ]
     },
     "execution_count": 35,
     "metadata": {},
     "output_type": "execute_result"
    }
   ],
   "source": [
    "{*range(4), 4, *(5, 6, 7)}"
   ]
  },
  {
   "cell_type": "markdown",
   "id": "fcb597c2-9dff-42d9-9198-c3d28aaf8290",
   "metadata": {
    "tags": []
   },
   "source": [
    "### 嵌套拆包"
   ]
  },
  {
   "cell_type": "markdown",
   "id": "b9447753-b8c9-4342-86d8-a7ec9426baaa",
   "metadata": {
    "tags": []
   },
   "source": [
    "#### 拆包嵌套元组，获取经度"
   ]
  },
  {
   "cell_type": "code",
   "execution_count": 36,
   "id": "517f1fd8-f77d-4f6c-a60f-89b8259aea60",
   "metadata": {},
   "outputs": [],
   "source": [
    "metro_areas = [\n",
    "    ('Tokyo', 'JP', 36.933, (35.689722, 139.691667)),  # <1>\n",
    "    ('Delhi NCR', 'IN', 21.935, (28.613889, 77.208889)),\n",
    "    ('Mexico City', 'MX', 20.142, (19.433333, -99.133333)),\n",
    "    ('New York-Newark', 'US', 20.104, (40.808611, -74.020386)),\n",
    "    ('São Paulo', 'BR', 19.649, (-23.547778, -46.635833)),\n",
    "]"
   ]
  },
  {
   "cell_type": "code",
   "execution_count": 37,
   "id": "bf528065-9870-4fa3-adaa-4f2cbcc908e1",
   "metadata": {},
   "outputs": [
    {
     "name": "stdout",
     "output_type": "stream",
     "text": [
      "                |  latitude | longitude\n",
      "Mexico City     |   19.4333 |  -99.1333\n",
      "New York-Newark |   40.8086 |  -74.0204\n",
      "São Paulo       |  -23.5478 |  -46.6358\n"
     ]
    }
   ],
   "source": [
    "print(f'{\"\":15} | {\"latitude\":>9} | {\"longitude\":>9}')\n",
    "for name, _, _, (lat, lon) in metro_areas:  # <2>\n",
    "    if lon <= 0:  # <3>\n",
    "        print(f'{name:15} | {lat:9.4f} | {lon:9.4f}')"
   ]
  },
  {
   "cell_type": "markdown",
   "id": "28dfb6c6-2969-49fc-9c89-870a233d0e1f",
   "metadata": {
    "tags": []
   },
   "source": [
    "## 序列模式匹配"
   ]
  },
  {
   "cell_type": "markdown",
   "id": "18b1998c-f886-4c9b-9dfe-3d00d4f0284a",
   "metadata": {},
   "source": [
    "### 假想的 Robot 类中的方法"
   ]
  },
  {
   "cell_type": "code",
   "execution_count": 38,
   "id": "74b10d35-7395-437a-b451-30ce6dc77f23",
   "metadata": {},
   "outputs": [],
   "source": [
    "# Python 3.10 支持\n",
    "# def handle_command(self, message):\n",
    "#     match message:\n",
    "#         case ['BEEPER', frequency, times]:\n",
    "#             self.beep(times, frequency)\n",
    "#         case ['NECK', angle]:\n",
    "#             self.rotate_neck(angle)\n",
    "#         case ['LED', ident, intensity]:\n",
    "#             self.leds[ident].set_brightness(ident, intensity)\n",
    "#         case ['LED', ident, red, green, blue]:\n",
    "#             self.leds[ident].set_color(ident, red, green, blue)\n",
    "#         case _:\n",
    "#             raise InvalidCommand(message)"
   ]
  },
  {
   "cell_type": "code",
   "execution_count": 39,
   "id": "5089639c-9049-479e-95a7-a156bc710e97",
   "metadata": {},
   "outputs": [],
   "source": [
    "# match / case 语法"
   ]
  },
  {
   "cell_type": "markdown",
   "id": "ff9028e3-3e9f-4b8f-b73b-c04306d4733b",
   "metadata": {
    "tags": []
   },
   "source": [
    "## 切片"
   ]
  },
  {
   "cell_type": "markdown",
   "id": "624dcafd-bc04-4700-b7a5-a25c462d75bb",
   "metadata": {
    "tags": []
   },
   "source": [
    "### 为什么切片和区间排除最后一项"
   ]
  },
  {
   "cell_type": "code",
   "execution_count": 40,
   "id": "9608ec13-91ea-496a-a405-aed85cd1e445",
   "metadata": {},
   "outputs": [
    {
     "data": {
      "text/plain": [
       "[10, 20]"
      ]
     },
     "execution_count": 40,
     "metadata": {},
     "output_type": "execute_result"
    }
   ],
   "source": [
    "l = [10, 20, 30, 40, 50, 60]\n",
    "\n",
    "l[:2]  # split at 2"
   ]
  },
  {
   "cell_type": "code",
   "execution_count": 41,
   "id": "fc8cbec1-5f22-4ee5-acea-ad401c5fb97e",
   "metadata": {},
   "outputs": [
    {
     "data": {
      "text/plain": [
       "[30, 40, 50, 60]"
      ]
     },
     "execution_count": 41,
     "metadata": {},
     "output_type": "execute_result"
    }
   ],
   "source": [
    "l[2:]"
   ]
  },
  {
   "cell_type": "code",
   "execution_count": 42,
   "id": "4c3a1630-697b-4968-9e98-d670aa78a011",
   "metadata": {},
   "outputs": [
    {
     "data": {
      "text/plain": [
       "[10, 20, 30]"
      ]
     },
     "execution_count": 42,
     "metadata": {},
     "output_type": "execute_result"
    }
   ],
   "source": [
    "l[:3]  # split at 3"
   ]
  },
  {
   "cell_type": "code",
   "execution_count": 43,
   "id": "b2d050d1-b4d2-463e-a298-9d5a9b2afc59",
   "metadata": {},
   "outputs": [
    {
     "data": {
      "text/plain": [
       "[40, 50, 60]"
      ]
     },
     "execution_count": 43,
     "metadata": {},
     "output_type": "execute_result"
    }
   ],
   "source": [
    "l[3:]"
   ]
  },
  {
   "cell_type": "markdown",
   "id": "f3ccf3c2-28af-46df-a2c1-2b4e098e01dc",
   "metadata": {
    "tags": []
   },
   "source": [
    "### 切片对象"
   ]
  },
  {
   "cell_type": "code",
   "execution_count": 44,
   "id": "815c5c05-a9d4-4a9f-825a-ea4a1c98162d",
   "metadata": {},
   "outputs": [
    {
     "data": {
      "text/plain": [
       "'bye'"
      ]
     },
     "execution_count": 44,
     "metadata": {},
     "output_type": "execute_result"
    }
   ],
   "source": [
    "s = 'bicycle'\n",
    "s[::3]"
   ]
  },
  {
   "cell_type": "code",
   "execution_count": 45,
   "id": "3ca5e03b-2a72-4648-bedc-6e6f920166b9",
   "metadata": {},
   "outputs": [
    {
     "data": {
      "text/plain": [
       "'elcycib'"
      ]
     },
     "execution_count": 45,
     "metadata": {},
     "output_type": "execute_result"
    }
   ],
   "source": [
    "s[::-1]"
   ]
  },
  {
   "cell_type": "code",
   "execution_count": 46,
   "id": "1add238f-fca0-453b-aa25-106a2ba01819",
   "metadata": {},
   "outputs": [
    {
     "data": {
      "text/plain": [
       "'eccb'"
      ]
     },
     "execution_count": 46,
     "metadata": {},
     "output_type": "execute_result"
    }
   ],
   "source": [
    "s[::-2]"
   ]
  },
  {
   "cell_type": "markdown",
   "id": "4f27ec88-7e41-4d25-9a78-e04d4dba418e",
   "metadata": {
    "tags": []
   },
   "source": [
    "#### 从纯文本形式的发票中提取商品信息"
   ]
  },
  {
   "cell_type": "code",
   "execution_count": 47,
   "id": "74402f70-b09c-413f-a9dc-d2f23d18eb06",
   "metadata": {},
   "outputs": [
    {
     "name": "stdout",
     "output_type": "stream",
     "text": [
      "    $17.50   imoroni PiBrella                  \n",
      "     $4.95   mm Tactile Switch x20             \n",
      "    $28.00   anavise Jr. - PV-201              \n",
      "    $34.95   iTFT Mini Kit 320x240             \n",
      " \n"
     ]
    }
   ],
   "source": [
    "invoice = \"\"\"\n",
    "0.....6.................................40........52...55........\n",
    "1909 Pimoroni PiBrella                      $17.50    3    $52.50\n",
    "1489 6mm Tactile Switch x20                  $4.95    2    $9.90\n",
    "1510 Panavise Jr. - PV-201                  $28.00    1    $28.00\n",
    "1601 PiTFT Mini Kit 320x240                 $34.95    1    $34.95\n",
    "\"\"\"\n",
    "\n",
    "SKU = slice(0, 6)\n",
    "DESCRIPTION = slice(6, 40)\n",
    "UNIT_PRICE = slice(40, 52)\n",
    "QUANTITY = slice(52, 55)\n",
    "ITEM_TOTAL = slice(55, None)\n",
    "\n",
    "line_items = invoice.split('\\n')[2:]\n",
    "\n",
    "for item in line_items:\n",
    "    print(item[UNIT_PRICE], item[DESCRIPTION])"
   ]
  },
  {
   "cell_type": "markdown",
   "id": "6ae1a66c-a0a4-4158-a2de-d9d910ab9988",
   "metadata": {
    "tags": []
   },
   "source": [
    "### 为切片赋值"
   ]
  },
  {
   "cell_type": "code",
   "execution_count": 48,
   "id": "38b221c4-406b-490a-9145-6ff7fcd9ef3d",
   "metadata": {},
   "outputs": [
    {
     "data": {
      "text/plain": [
       "[0, 1, 2, 3, 4, 5, 6, 7, 8, 9]"
      ]
     },
     "execution_count": 48,
     "metadata": {},
     "output_type": "execute_result"
    }
   ],
   "source": [
    "l = list(range(10))\n",
    "l"
   ]
  },
  {
   "cell_type": "code",
   "execution_count": 49,
   "id": "379f1706-cca4-45ce-a32c-a7095cfa3ecd",
   "metadata": {},
   "outputs": [
    {
     "data": {
      "text/plain": [
       "[0, 1, 20, 30, 5, 6, 7, 8, 9]"
      ]
     },
     "execution_count": 49,
     "metadata": {},
     "output_type": "execute_result"
    }
   ],
   "source": [
    "l[2:5] = [20, 30]\n",
    "l"
   ]
  },
  {
   "cell_type": "code",
   "execution_count": 50,
   "id": "91730583-04cb-4160-96ca-ea164e627568",
   "metadata": {},
   "outputs": [
    {
     "data": {
      "text/plain": [
       "[0, 1, 20, 30, 5, 8, 9]"
      ]
     },
     "execution_count": 50,
     "metadata": {},
     "output_type": "execute_result"
    }
   ],
   "source": [
    "del l[5:7]\n",
    "l"
   ]
  },
  {
   "cell_type": "code",
   "execution_count": 51,
   "id": "5e0616c4-758b-4c43-92f8-ae6383fa124b",
   "metadata": {},
   "outputs": [
    {
     "data": {
      "text/plain": [
       "[0, 1, 20, 11, 5, 22, 9]"
      ]
     },
     "execution_count": 51,
     "metadata": {},
     "output_type": "execute_result"
    }
   ],
   "source": [
    "l[3::2] = [11, 22]\n",
    "l"
   ]
  },
  {
   "cell_type": "code",
   "execution_count": 52,
   "id": "b25cc0bd-7de4-43ca-bec4-c0df63e408cc",
   "metadata": {},
   "outputs": [
    {
     "name": "stdout",
     "output_type": "stream",
     "text": [
      "TypeError('can only assign an iterable',)\n"
     ]
    }
   ],
   "source": [
    "# 如果赋值对象是一个切片，那么右边必须是可迭代对象\n",
    "try:\n",
    "    l[2:5] = 100\n",
    "except TypeError as e:\n",
    "    print(repr(e))"
   ]
  },
  {
   "cell_type": "code",
   "execution_count": 53,
   "id": "703fbc1b-6a77-4b07-a8a9-2b61ee63481b",
   "metadata": {},
   "outputs": [
    {
     "data": {
      "text/plain": [
       "[0, 1, 100, 22, 9]"
      ]
     },
     "execution_count": 53,
     "metadata": {},
     "output_type": "execute_result"
    }
   ],
   "source": [
    "l[2:5] = [100]\n",
    "l"
   ]
  },
  {
   "cell_type": "markdown",
   "id": "54bd0979-fc3e-4239-aa00-35120b70d807",
   "metadata": {
    "tags": []
   },
   "source": [
    "## 使用 + 和 * 处理序列"
   ]
  },
  {
   "cell_type": "code",
   "execution_count": 54,
   "id": "bbd1541e-61eb-4ca2-a705-6d722d4faf4a",
   "metadata": {},
   "outputs": [
    {
     "data": {
      "text/plain": [
       "[1, 2, 3, 1, 2, 3, 1, 2, 3, 1, 2, 3, 1, 2, 3]"
      ]
     },
     "execution_count": 54,
     "metadata": {},
     "output_type": "execute_result"
    }
   ],
   "source": [
    "l = [1, 2, 3]\n",
    "l*5"
   ]
  },
  {
   "cell_type": "code",
   "execution_count": 55,
   "id": "85a09096-9b3c-4d93-bb49-d2a46d311df5",
   "metadata": {},
   "outputs": [
    {
     "data": {
      "text/plain": [
       "'abcdabcdabcdabcdabcd'"
      ]
     },
     "execution_count": 55,
     "metadata": {},
     "output_type": "execute_result"
    }
   ],
   "source": [
    "5 * 'abcd'"
   ]
  },
  {
   "cell_type": "markdown",
   "id": "64bae5d7-750c-49f0-9fed-2e3db5eb01f3",
   "metadata": {
    "tags": []
   },
   "source": [
    "### 构建嵌套列表"
   ]
  },
  {
   "cell_type": "markdown",
   "id": "1d0bee45-1444-4c76-b91d-b879c03ec926",
   "metadata": {},
   "source": [
    "#### 一个列表中嵌套 3 个长度为 3 的列表，可以表示井字游戏棋盘"
   ]
  },
  {
   "cell_type": "code",
   "execution_count": 56,
   "id": "9fad8267-5658-42fe-a731-3dd0be6fd0bb",
   "metadata": {},
   "outputs": [
    {
     "data": {
      "text/plain": [
       "[['_', '_', '_'], ['_', '_', '_'], ['_', '_', '_']]"
      ]
     },
     "execution_count": 56,
     "metadata": {},
     "output_type": "execute_result"
    }
   ],
   "source": [
    "board = [['_'] * 3 for i in range(3)]\n",
    "board"
   ]
  },
  {
   "cell_type": "code",
   "execution_count": 57,
   "id": "fda147d4-533c-4595-984c-7f00f09fbe2b",
   "metadata": {},
   "outputs": [
    {
     "data": {
      "text/plain": [
       "[['_', '_', '_'], ['_', '_', 'X'], ['_', '_', '_']]"
      ]
     },
     "execution_count": 57,
     "metadata": {},
     "output_type": "execute_result"
    }
   ],
   "source": [
    "board[1][2] = 'X'\n",
    "board"
   ]
  },
  {
   "cell_type": "markdown",
   "id": "4637c744-179d-4902-a5c9-390a43fafd13",
   "metadata": {},
   "source": [
    "#### 不能在一个列表中 3 次引用同一个列表"
   ]
  },
  {
   "cell_type": "code",
   "execution_count": 58,
   "id": "50a422c9-922f-4d9a-9212-cfd64548bada",
   "metadata": {},
   "outputs": [
    {
     "data": {
      "text/plain": [
       "[['_', '_', '_'], ['_', '_', '_'], ['_', '_', '_']]"
      ]
     },
     "execution_count": 58,
     "metadata": {},
     "output_type": "execute_result"
    }
   ],
   "source": [
    "weird_board = [['_'] * 3] * 3\n",
    "weird_board"
   ]
  },
  {
   "cell_type": "code",
   "execution_count": 59,
   "id": "6f2bbc1c-2d0a-47ae-bc53-8134cd7cc44d",
   "metadata": {},
   "outputs": [
    {
     "data": {
      "text/plain": [
       "[['_', '_', '0'], ['_', '_', '0'], ['_', '_', '0']]"
      ]
     },
     "execution_count": 59,
     "metadata": {},
     "output_type": "execute_result"
    }
   ],
   "source": [
    "weird_board[1][2] = '0'\n",
    "weird_board"
   ]
  },
  {
   "cell_type": "markdown",
   "id": "1bc33f4f-0000-4958-9d9a-34168ecec1c9",
   "metadata": {},
   "source": [
    "### 使用增量赋值运算符处理序列"
   ]
  },
  {
   "cell_type": "code",
   "execution_count": 60,
   "id": "e5ec056f-a6eb-4c47-89f0-a09e9f682dc3",
   "metadata": {},
   "outputs": [
    {
     "data": {
      "text/plain": [
       "140415770720072"
      ]
     },
     "execution_count": 60,
     "metadata": {},
     "output_type": "execute_result"
    }
   ],
   "source": [
    "l = [1, 2, 3]\n",
    "id(l)"
   ]
  },
  {
   "cell_type": "code",
   "execution_count": 61,
   "id": "fd5dbd18-ba3e-42a1-9168-4f390b2948b1",
   "metadata": {},
   "outputs": [
    {
     "data": {
      "text/plain": [
       "[1, 2, 3, 1, 2, 3]"
      ]
     },
     "execution_count": 61,
     "metadata": {},
     "output_type": "execute_result"
    }
   ],
   "source": [
    "l *= 2\n",
    "l"
   ]
  },
  {
   "cell_type": "code",
   "execution_count": 62,
   "id": "8d72fd0d-dd0f-4c50-9b0e-e4590dc92eee",
   "metadata": {},
   "outputs": [
    {
     "data": {
      "text/plain": [
       "140415770720072"
      ]
     },
     "execution_count": 62,
     "metadata": {},
     "output_type": "execute_result"
    }
   ],
   "source": [
    "id(l)"
   ]
  },
  {
   "cell_type": "code",
   "execution_count": 63,
   "id": "f60fe64e-6c36-47ef-816d-f233085af413",
   "metadata": {},
   "outputs": [
    {
     "data": {
      "text/plain": [
       "140416059061592"
      ]
     },
     "execution_count": 63,
     "metadata": {},
     "output_type": "execute_result"
    }
   ],
   "source": [
    "t = (1, 2, 3)\n",
    "id(t)"
   ]
  },
  {
   "cell_type": "code",
   "execution_count": 64,
   "id": "fc5618d7-5b51-407f-bbbf-a08d9c088bb1",
   "metadata": {},
   "outputs": [
    {
     "data": {
      "text/plain": [
       "140415506085352"
      ]
     },
     "execution_count": 64,
     "metadata": {},
     "output_type": "execute_result"
    }
   ],
   "source": [
    "t *= 2\n",
    "id(t)"
   ]
  },
  {
   "cell_type": "markdown",
   "id": "a6323d49-11d9-42e1-b671-7707100d4675",
   "metadata": {},
   "source": [
    "## list.sort 与内置函数 sorted"
   ]
  },
  {
   "cell_type": "code",
   "execution_count": 65,
   "id": "c6579052-118e-4af0-ada0-0c6db9c96275",
   "metadata": {},
   "outputs": [
    {
     "data": {
      "text/plain": [
       "['apple', 'banana', 'grape', 'raspberry']"
      ]
     },
     "execution_count": 65,
     "metadata": {},
     "output_type": "execute_result"
    }
   ],
   "source": [
    "fruits = ['grape', 'raspberry', 'apple', 'banana']\n",
    "sorted(fruits)"
   ]
  },
  {
   "cell_type": "code",
   "execution_count": 66,
   "id": "ce895999-3758-4eff-986a-abd251437c55",
   "metadata": {},
   "outputs": [
    {
     "data": {
      "text/plain": [
       "['grape', 'raspberry', 'apple', 'banana']"
      ]
     },
     "execution_count": 66,
     "metadata": {},
     "output_type": "execute_result"
    }
   ],
   "source": [
    "fruits"
   ]
  },
  {
   "cell_type": "code",
   "execution_count": 67,
   "id": "2c8bb5eb-882c-4e91-80ef-88cbdb698910",
   "metadata": {},
   "outputs": [
    {
     "data": {
      "text/plain": [
       "['raspberry', 'grape', 'banana', 'apple']"
      ]
     },
     "execution_count": 67,
     "metadata": {},
     "output_type": "execute_result"
    }
   ],
   "source": [
    "sorted(fruits, reverse=True)"
   ]
  },
  {
   "cell_type": "code",
   "execution_count": 68,
   "id": "5db86af0-a4f9-4611-b109-79c2a72983f7",
   "metadata": {},
   "outputs": [
    {
     "data": {
      "text/plain": [
       "['grape', 'apple', 'banana', 'raspberry']"
      ]
     },
     "execution_count": 68,
     "metadata": {},
     "output_type": "execute_result"
    }
   ],
   "source": [
    "sorted(fruits, key=len)"
   ]
  },
  {
   "cell_type": "code",
   "execution_count": 69,
   "id": "c25abedf-70f1-402b-9804-5790e9b802a7",
   "metadata": {},
   "outputs": [
    {
     "data": {
      "text/plain": [
       "['raspberry', 'banana', 'grape', 'apple']"
      ]
     },
     "execution_count": 69,
     "metadata": {},
     "output_type": "execute_result"
    }
   ],
   "source": [
    "sorted(fruits, key=len, reverse=True)"
   ]
  },
  {
   "cell_type": "code",
   "execution_count": 70,
   "id": "4d1756e3-5977-48a2-a5fd-d08dba67a4ff",
   "metadata": {},
   "outputs": [
    {
     "data": {
      "text/plain": [
       "['grape', 'raspberry', 'apple', 'banana']"
      ]
     },
     "execution_count": 70,
     "metadata": {},
     "output_type": "execute_result"
    }
   ],
   "source": [
    "fruits"
   ]
  },
  {
   "cell_type": "code",
   "execution_count": 71,
   "id": "9c5e8edf-3e9e-48b0-bbf3-863e2b96ad87",
   "metadata": {},
   "outputs": [
    {
     "data": {
      "text/plain": [
       "['apple', 'banana', 'grape', 'raspberry']"
      ]
     },
     "execution_count": 71,
     "metadata": {},
     "output_type": "execute_result"
    }
   ],
   "source": [
    "# 就地排序，返回 None\n",
    "fruits.sort()\n",
    "fruits"
   ]
  },
  {
   "cell_type": "markdown",
   "id": "9c0aa3b6-542e-4e10-b201-aba91afbb8db",
   "metadata": {},
   "source": [
    "## 当列表不适应时"
   ]
  },
  {
   "cell_type": "markdown",
   "id": "21ca4b5e-ef36-40e7-8bec-353fae322c3b",
   "metadata": {},
   "source": [
    "### 数组"
   ]
  },
  {
   "cell_type": "markdown",
   "id": "3413cfd6-b985-4d84-8545-37c222720ced",
   "metadata": {},
   "source": [
    "#### 创建、保存和加载一个大型浮点数数组"
   ]
  },
  {
   "cell_type": "code",
   "execution_count": 72,
   "id": "cceb29dd-7f66-40df-9d81-07270466ec30",
   "metadata": {},
   "outputs": [
    {
     "data": {
      "text/plain": [
       "0.0026636287230433764"
      ]
     },
     "execution_count": 72,
     "metadata": {},
     "output_type": "execute_result"
    }
   ],
   "source": [
    "from array import array\n",
    "from random import random\n",
    "\n",
    "floats = array('d', (random() for i in range(10 ** 7)))\n",
    "floats[-1]"
   ]
  },
  {
   "cell_type": "code",
   "execution_count": 73,
   "id": "8366e458-fc5f-4bdd-8cad-de9b28960457",
   "metadata": {},
   "outputs": [],
   "source": [
    "fp = open('floats.bin', 'wb')"
   ]
  },
  {
   "cell_type": "code",
   "execution_count": 74,
   "id": "6a34aeb4-eb1e-4253-8d8a-fc3a507e5f0e",
   "metadata": {},
   "outputs": [],
   "source": [
    "floats.tofile(fp)"
   ]
  },
  {
   "cell_type": "code",
   "execution_count": 75,
   "id": "f6a6caa1-5e06-413d-b06d-3012a6a4689b",
   "metadata": {},
   "outputs": [],
   "source": [
    "fp.close()"
   ]
  },
  {
   "cell_type": "code",
   "execution_count": 76,
   "id": "fb8a590f-20a4-420e-a1bc-9aadd5cd126e",
   "metadata": {},
   "outputs": [],
   "source": [
    "floats2 = array('d')\n",
    "fp = open('floats.bin', 'rb')\n",
    "floats2.fromfile(fp, 10**7)\n",
    "fp.close()"
   ]
  },
  {
   "cell_type": "code",
   "execution_count": 77,
   "id": "5cb51b02-f2fb-424a-9c28-2fab05a9f71b",
   "metadata": {},
   "outputs": [
    {
     "data": {
      "text/plain": [
       "0.0026636287230433764"
      ]
     },
     "execution_count": 77,
     "metadata": {},
     "output_type": "execute_result"
    }
   ],
   "source": [
    "floats2[-1]"
   ]
  },
  {
   "cell_type": "code",
   "execution_count": 78,
   "id": "4beda3e0-5702-4c9a-a500-38ae8324a859",
   "metadata": {},
   "outputs": [
    {
     "data": {
      "text/plain": [
       "True"
      ]
     },
     "execution_count": 78,
     "metadata": {},
     "output_type": "execute_result"
    }
   ],
   "source": [
    "floats2 == floats"
   ]
  },
  {
   "cell_type": "markdown",
   "id": "c6bec8bc-6800-436d-b186-ef8cfd779577",
   "metadata": {},
   "source": [
    "### memoryview"
   ]
  },
  {
   "cell_type": "markdown",
   "id": "54ca63a5-9444-41c6-b83c-0e968d72b643",
   "metadata": {},
   "source": [
    "#### 分别以 `1*6`、`2*3` 和 `3*2` 矩阵的视图处理 6字节内存"
   ]
  },
  {
   "cell_type": "code",
   "execution_count": 79,
   "id": "abddd48a-544c-4b60-b992-fb700e46da44",
   "metadata": {},
   "outputs": [
    {
     "data": {
      "text/plain": [
       "[0, 1, 2, 3, 4, 5]"
      ]
     },
     "execution_count": 79,
     "metadata": {},
     "output_type": "execute_result"
    }
   ],
   "source": [
    "from array import array\n",
    "\n",
    "octets = array('B', range(6))\n",
    "m1 = memoryview(octets)\n",
    "m1.tolist()"
   ]
  },
  {
   "cell_type": "code",
   "execution_count": 80,
   "id": "7753afa5-facf-4d3a-8032-154d9981e82b",
   "metadata": {},
   "outputs": [
    {
     "data": {
      "text/plain": [
       "[[0, 1, 2], [3, 4, 5]]"
      ]
     },
     "execution_count": 80,
     "metadata": {},
     "output_type": "execute_result"
    }
   ],
   "source": [
    "m2 = m1.cast('B', [2, 3])\n",
    "m2.tolist()"
   ]
  },
  {
   "cell_type": "code",
   "execution_count": 81,
   "id": "0cf55181-89bc-4b04-90ae-58523b0f12ce",
   "metadata": {},
   "outputs": [
    {
     "data": {
      "text/plain": [
       "[[0, 1], [2, 3], [4, 5]]"
      ]
     },
     "execution_count": 81,
     "metadata": {},
     "output_type": "execute_result"
    }
   ],
   "source": [
    "m3 = m1.cast('B', [3, 2])\n",
    "m3.tolist()"
   ]
  },
  {
   "cell_type": "code",
   "execution_count": 82,
   "id": "eb7c7fa1-b73b-450e-b5ac-80858f1a22f2",
   "metadata": {},
   "outputs": [
    {
     "data": {
      "text/plain": [
       "array('B', [0, 1, 2, 33, 22, 5])"
      ]
     },
     "execution_count": 82,
     "metadata": {},
     "output_type": "execute_result"
    }
   ],
   "source": [
    "m2[1, 1] = 22\n",
    "m3[1, 1] = 33\n",
    "octets"
   ]
  },
  {
   "cell_type": "code",
   "execution_count": 83,
   "id": "16647ec5-ef7d-4440-969f-aff27d644a75",
   "metadata": {},
   "outputs": [],
   "source": [
    "# 证明 octets、m1、m2 和 m3 之间的内存是共享的"
   ]
  },
  {
   "cell_type": "markdown",
   "id": "84f6edb7-4e04-4c77-adfb-cf4393673ed6",
   "metadata": {
    "tags": []
   },
   "source": [
    "### Numpy"
   ]
  },
  {
   "cell_type": "markdown",
   "id": "7b9188c2-ac56-442e-a39d-435b4a45cdec",
   "metadata": {},
   "source": [
    "#### numpy.ndarray 中行和列的基本操作"
   ]
  },
  {
   "cell_type": "code",
   "execution_count": 84,
   "id": "3c6e3ed5-0405-4620-921d-81f2de283573",
   "metadata": {},
   "outputs": [
    {
     "data": {
      "text/plain": [
       "array([ 0,  1,  2,  3,  4,  5,  6,  7,  8,  9, 10, 11])"
      ]
     },
     "execution_count": 84,
     "metadata": {},
     "output_type": "execute_result"
    }
   ],
   "source": [
    "import numpy as np\n",
    "\n",
    "a = np.arange(12)\n",
    "a"
   ]
  },
  {
   "cell_type": "code",
   "execution_count": 85,
   "id": "fd4b9e80-c8a0-461b-8586-fb8a6435828f",
   "metadata": {},
   "outputs": [
    {
     "data": {
      "text/plain": [
       "numpy.ndarray"
      ]
     },
     "execution_count": 85,
     "metadata": {},
     "output_type": "execute_result"
    }
   ],
   "source": [
    "type(a)"
   ]
  },
  {
   "cell_type": "code",
   "execution_count": 86,
   "id": "26d29ead-c1a2-4a52-a7e7-1ae1e303b36b",
   "metadata": {},
   "outputs": [
    {
     "data": {
      "text/plain": [
       "(12,)"
      ]
     },
     "execution_count": 86,
     "metadata": {},
     "output_type": "execute_result"
    }
   ],
   "source": [
    "a.shape"
   ]
  },
  {
   "cell_type": "code",
   "execution_count": 87,
   "id": "82ea23b9-ab40-4ea3-adb0-f0b9807bd94c",
   "metadata": {},
   "outputs": [
    {
     "data": {
      "text/plain": [
       "array([[ 0,  1,  2,  3],\n",
       "       [ 4,  5,  6,  7],\n",
       "       [ 8,  9, 10, 11]])"
      ]
     },
     "execution_count": 87,
     "metadata": {},
     "output_type": "execute_result"
    }
   ],
   "source": [
    "a.shape = 3, 4\n",
    "a"
   ]
  },
  {
   "cell_type": "code",
   "execution_count": 88,
   "id": "242fdb4f-876d-4a03-82e9-33d1515ab234",
   "metadata": {},
   "outputs": [
    {
     "data": {
      "text/plain": [
       "array([ 8,  9, 10, 11])"
      ]
     },
     "execution_count": 88,
     "metadata": {},
     "output_type": "execute_result"
    }
   ],
   "source": [
    "a[2]"
   ]
  },
  {
   "cell_type": "code",
   "execution_count": 89,
   "id": "f9fc9029-8896-4ae9-a956-3abd84d52bd8",
   "metadata": {},
   "outputs": [
    {
     "data": {
      "text/plain": [
       "9"
      ]
     },
     "execution_count": 89,
     "metadata": {},
     "output_type": "execute_result"
    }
   ],
   "source": [
    "a[2, 1]"
   ]
  },
  {
   "cell_type": "code",
   "execution_count": 90,
   "id": "6c3fecc9-fbb6-4c4a-a9a5-b29c1db98875",
   "metadata": {},
   "outputs": [
    {
     "data": {
      "text/plain": [
       "array([1, 5, 9])"
      ]
     },
     "execution_count": 90,
     "metadata": {},
     "output_type": "execute_result"
    }
   ],
   "source": [
    "a[:,1]"
   ]
  },
  {
   "cell_type": "code",
   "execution_count": 91,
   "id": "257060aa-3bcc-4b21-b1e4-425d0f2b3103",
   "metadata": {},
   "outputs": [
    {
     "data": {
      "text/plain": [
       "array([[ 0,  4,  8],\n",
       "       [ 1,  5,  9],\n",
       "       [ 2,  6, 10],\n",
       "       [ 3,  7, 11]])"
      ]
     },
     "execution_count": 91,
     "metadata": {},
     "output_type": "execute_result"
    }
   ],
   "source": [
    "a.transpose()"
   ]
  },
  {
   "cell_type": "markdown",
   "id": "59ca5cf0-7a4c-4879-8118-f76eba4c1790",
   "metadata": {},
   "source": [
    "#### 加载、保存和操作 numpy.ndarray 对象的所有元素"
   ]
  },
  {
   "cell_type": "code",
   "execution_count": 92,
   "id": "3e58dcde-f50c-4107-ab38-95a0db395fd7",
   "metadata": {},
   "outputs": [],
   "source": [
    "with open('floats-1M-lines.txt', 'wt') as fp:\n",
    "    for _ in range(1_000_000):\n",
    "        fp.write(f'{random()}\\n')"
   ]
  },
  {
   "cell_type": "code",
   "execution_count": 93,
   "id": "69ba7a5b-61ff-48ed-baf0-83880e66aef1",
   "metadata": {},
   "outputs": [
    {
     "data": {
      "text/plain": [
       "array([0.81480267, 0.44487581, 0.33107489])"
      ]
     },
     "execution_count": 93,
     "metadata": {},
     "output_type": "execute_result"
    }
   ],
   "source": [
    "floats = np.loadtxt('floats-1M-lines.txt')\n",
    "floats[-3:]"
   ]
  },
  {
   "cell_type": "code",
   "execution_count": 94,
   "id": "4de25a27-d54c-4135-9d60-96cd9bd9d9df",
   "metadata": {},
   "outputs": [
    {
     "data": {
      "text/plain": [
       "array([0.40740133, 0.22243791, 0.16553745])"
      ]
     },
     "execution_count": 94,
     "metadata": {},
     "output_type": "execute_result"
    }
   ],
   "source": [
    "floats *= .5\n",
    "floats[-3:]"
   ]
  },
  {
   "cell_type": "code",
   "execution_count": 95,
   "id": "ee256033-0caa-4b60-9c10-114cd76c5ce5",
   "metadata": {},
   "outputs": [
    {
     "data": {
      "text/plain": [
       "0.0003928749938495457"
      ]
     },
     "execution_count": 95,
     "metadata": {},
     "output_type": "execute_result"
    }
   ],
   "source": [
    "from time import perf_counter as pc\n",
    "\n",
    "t0 = pc(); floats /= 3; pc() - t0"
   ]
  },
  {
   "cell_type": "code",
   "execution_count": 96,
   "id": "be3b088c-f3f1-4f03-ad53-e10b97adebfc",
   "metadata": {},
   "outputs": [],
   "source": [
    "np.save('floats-1M', floats)"
   ]
  },
  {
   "cell_type": "code",
   "execution_count": 97,
   "id": "a81b2325-69ab-441d-b443-d7c1208bcf00",
   "metadata": {},
   "outputs": [
    {
     "data": {
      "text/plain": [
       "memmap([0.81480267, 0.44487581, 0.33107489])"
      ]
     },
     "execution_count": 97,
     "metadata": {},
     "output_type": "execute_result"
    }
   ],
   "source": [
    "floats2 = np.load('floats-1M.npy', 'r+')\n",
    "floats2 *= 6\n",
    "floats2[-3:]"
   ]
  },
  {
   "cell_type": "markdown",
   "id": "d47abed1-ad40-4621-878a-31ff4a889b11",
   "metadata": {},
   "source": [
    "### 双端队列和其他队列"
   ]
  },
  {
   "cell_type": "markdown",
   "id": "6d78e461-48b0-402f-bf55-755f2066a1a4",
   "metadata": {},
   "source": [
    "#### 处理一个 deque 对象"
   ]
  },
  {
   "cell_type": "code",
   "execution_count": 98,
   "id": "54e37db2-cdaf-49a9-adbb-799ce62663db",
   "metadata": {},
   "outputs": [
    {
     "data": {
      "text/plain": [
       "deque([0, 1, 2, 3, 4, 5, 6, 7, 8, 9])"
      ]
     },
     "execution_count": 98,
     "metadata": {},
     "output_type": "execute_result"
    }
   ],
   "source": [
    "from collections import deque\n",
    "\n",
    "dq = deque(range(10), maxlen=10)\n",
    "dq"
   ]
  },
  {
   "cell_type": "code",
   "execution_count": 99,
   "id": "baff6724-40ef-439b-85b8-9c38f2ad430e",
   "metadata": {},
   "outputs": [
    {
     "data": {
      "text/plain": [
       "deque([7, 8, 9, 0, 1, 2, 3, 4, 5, 6])"
      ]
     },
     "execution_count": 99,
     "metadata": {},
     "output_type": "execute_result"
    }
   ],
   "source": [
    "dq.rotate(3)\n",
    "dq"
   ]
  },
  {
   "cell_type": "code",
   "execution_count": 100,
   "id": "86cf5cde-6e50-4294-b3be-c0515ecb4e7d",
   "metadata": {},
   "outputs": [
    {
     "data": {
      "text/plain": [
       "deque([1, 2, 3, 4, 5, 6, 7, 8, 9, 0])"
      ]
     },
     "execution_count": 100,
     "metadata": {},
     "output_type": "execute_result"
    }
   ],
   "source": [
    "dq.rotate(-4)\n",
    "dq"
   ]
  },
  {
   "cell_type": "code",
   "execution_count": 101,
   "id": "df06b8fc-4dc9-49ac-97bd-d979589d046d",
   "metadata": {},
   "outputs": [
    {
     "data": {
      "text/plain": [
       "deque([-1, 1, 2, 3, 4, 5, 6, 7, 8, 9])"
      ]
     },
     "execution_count": 101,
     "metadata": {},
     "output_type": "execute_result"
    }
   ],
   "source": [
    "dq.appendleft(-1)\n",
    "dq"
   ]
  },
  {
   "cell_type": "code",
   "execution_count": 102,
   "id": "4fca8f9e-f222-4711-85ab-f37db46e6277",
   "metadata": {},
   "outputs": [
    {
     "data": {
      "text/plain": [
       "deque([3, 4, 5, 6, 7, 8, 9, 11, 22, 33])"
      ]
     },
     "execution_count": 102,
     "metadata": {},
     "output_type": "execute_result"
    }
   ],
   "source": [
    "dq.extend([11, 22, 33])\n",
    "dq"
   ]
  },
  {
   "cell_type": "code",
   "execution_count": 103,
   "id": "a16923b0-1a31-424f-bc25-6bcb340b39f4",
   "metadata": {},
   "outputs": [
    {
     "data": {
      "text/plain": [
       "deque([40, 30, 20, 10, 3, 4, 5, 6, 7, 8])"
      ]
     },
     "execution_count": 103,
     "metadata": {},
     "output_type": "execute_result"
    }
   ],
   "source": [
    "dq.extendleft([10, 20, 30, 40])\n",
    "dq"
   ]
  },
  {
   "cell_type": "code",
   "execution_count": null,
   "id": "4570605b-f7e2-4642-adb0-3c48f96e9a07",
   "metadata": {},
   "outputs": [],
   "source": []
  }
 ],
 "metadata": {
  "kernelspec": {
   "display_name": "matrix3",
   "language": "python",
   "name": "matrix3"
  },
  "language_info": {
   "codemirror_mode": {
    "name": "ipython",
    "version": 3
   },
   "file_extension": ".py",
   "mimetype": "text/x-python",
   "name": "python",
   "nbconvert_exporter": "python",
   "pygments_lexer": "ipython3",
   "version": "3.6.13"
  },
  "toc-autonumbering": false,
  "toc-showtags": false
 },
 "nbformat": 4,
 "nbformat_minor": 5
}
