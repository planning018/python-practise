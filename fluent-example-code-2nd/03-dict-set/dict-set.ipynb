{
 "cells": [
  {
   "cell_type": "code",
   "execution_count": 1,
   "id": "aaeefc3c-6deb-4a07-bdda-c8d768348745",
   "metadata": {},
   "outputs": [
    {
     "name": "stdout",
     "output_type": "stream",
     "text": [
      "3.9.7 (default, Sep 16 2021, 08:50:36) \n",
      "[Clang 10.0.0 ]\n"
     ]
    }
   ],
   "source": [
    "import sys\n",
    "\n",
    "print(sys.version)"
   ]
  },
  {
   "cell_type": "markdown",
   "id": "f485939d-4747-4fa8-8221-1d8ee1a11570",
   "metadata": {},
   "source": [
    "## 字典的现代句法"
   ]
  },
  {
   "cell_type": "markdown",
   "id": "86afe476-9fd1-4d10-8bcc-5b262537619a",
   "metadata": {},
   "source": [
    "### 字典推导式"
   ]
  },
  {
   "cell_type": "code",
   "execution_count": 2,
   "id": "f67c8a33-b3d7-4999-93eb-7c5efebf844d",
   "metadata": {},
   "outputs": [],
   "source": [
    "dial_codes = [\n",
    "    (86, 'China'),\n",
    "    (91, 'India'),\n",
    "    (1, 'United States'),\n",
    "    (62, 'Indonesia'),\n",
    "    (55, 'Brazil'),\n",
    "    (92, 'Pakistan'),\n",
    "    (880, 'Bangladesh'),\n",
    "    (234, 'Nigeria'),\n",
    "    (7, 'Russia'),\n",
    "    (81, 'Japan'),\n",
    "]"
   ]
  },
  {
   "cell_type": "code",
   "execution_count": 3,
   "id": "5efc5499-baae-4f5a-ac3e-5bea01180def",
   "metadata": {},
   "outputs": [
    {
     "data": {
      "text/plain": [
       "{'China': 86,\n",
       " 'India': 91,\n",
       " 'United States': 1,\n",
       " 'Indonesia': 62,\n",
       " 'Brazil': 55,\n",
       " 'Pakistan': 92,\n",
       " 'Bangladesh': 880,\n",
       " 'Nigeria': 234,\n",
       " 'Russia': 7,\n",
       " 'Japan': 81}"
      ]
     },
     "execution_count": 3,
     "metadata": {},
     "output_type": "execute_result"
    }
   ],
   "source": [
    "country_dial = {country: code for code, country in dial_codes}\n",
    "country_dial"
   ]
  },
  {
   "cell_type": "code",
   "execution_count": 7,
   "id": "cae0f86d-6be1-4514-9a3f-7a5dcca14da7",
   "metadata": {},
   "outputs": [
    {
     "data": {
      "text/plain": [
       "{55: 'BRAZIL', 62: 'INDONESIA', 7: 'RUSSIA', 1: 'UNITED STATES'}"
      ]
     },
     "execution_count": 7,
     "metadata": {},
     "output_type": "execute_result"
    }
   ],
   "source": [
    "{code:country.upper()\n",
    "    for country, code in sorted(country_dial.items())\n",
    "    if code < 70}"
   ]
  },
  {
   "cell_type": "markdown",
   "id": "ec5da707-c55b-4784-810f-e9f42381db51",
   "metadata": {},
   "source": [
    "### 映射拆包"
   ]
  },
  {
   "cell_type": "code",
   "execution_count": 8,
   "id": "b54f7176-3cef-4676-9a06-b852d86af6ad",
   "metadata": {},
   "outputs": [],
   "source": [
    "def dump(**kwargs):\n",
    "    return kwargs"
   ]
  },
  {
   "cell_type": "code",
   "execution_count": 9,
   "id": "8d474373-da13-4a6a-a415-74642e3addd3",
   "metadata": {},
   "outputs": [
    {
     "data": {
      "text/plain": [
       "{'x': 1, 'y': 2, 'z': 3}"
      ]
     },
     "execution_count": 9,
     "metadata": {},
     "output_type": "execute_result"
    }
   ],
   "source": [
    "dump(**{'x': 1}, y=2, **{'z': 3})"
   ]
  },
  {
   "cell_type": "code",
   "execution_count": 10,
   "id": "abf00147-452d-410e-8c51-f44203621339",
   "metadata": {},
   "outputs": [
    {
     "data": {
      "text/plain": [
       "{'a': 0, 'x': 4, 'y': 2, 'z': 3}"
      ]
     },
     "execution_count": 10,
     "metadata": {},
     "output_type": "execute_result"
    }
   ],
   "source": [
    "{'a':0, **{'x': 1}, 'y':2, **{'z': 3, 'x': 4}}"
   ]
  },
  {
   "cell_type": "markdown",
   "id": "dfff5e89-d499-4082-ac7b-117e5e357111",
   "metadata": {},
   "source": [
    "### 使用 | 合并映射"
   ]
  },
  {
   "cell_type": "code",
   "execution_count": 11,
   "id": "952d890f-84c4-4a69-8d5e-e1107e60daa3",
   "metadata": {},
   "outputs": [
    {
     "data": {
      "text/plain": [
       "{'a': 2, 'b': 4, 'c': 6}"
      ]
     },
     "execution_count": 11,
     "metadata": {},
     "output_type": "execute_result"
    }
   ],
   "source": [
    "d1 = {'a':1, 'b':3}\n",
    "d2 = {'a':2, 'b':4, 'c':6}\n",
    "d1 | d2"
   ]
  },
  {
   "cell_type": "code",
   "execution_count": 12,
   "id": "5b92f3ad-c56a-4f1b-8965-a008fa929680",
   "metadata": {},
   "outputs": [
    {
     "data": {
      "text/plain": [
       "{'a': 1, 'b': 3}"
      ]
     },
     "execution_count": 12,
     "metadata": {},
     "output_type": "execute_result"
    }
   ],
   "source": [
    "d1"
   ]
  },
  {
   "cell_type": "code",
   "execution_count": 13,
   "id": "e3993651-be0e-4aaa-91a1-046428c6a261",
   "metadata": {},
   "outputs": [
    {
     "data": {
      "text/plain": [
       "{'a': 2, 'b': 4, 'c': 6}"
      ]
     },
     "execution_count": 13,
     "metadata": {},
     "output_type": "execute_result"
    }
   ],
   "source": [
    "d2"
   ]
  },
  {
   "cell_type": "code",
   "execution_count": 14,
   "id": "b75c266b-1121-459e-a1ff-faf48c6414c1",
   "metadata": {},
   "outputs": [
    {
     "data": {
      "text/plain": [
       "{'a': 2, 'b': 4, 'c': 6}"
      ]
     },
     "execution_count": 14,
     "metadata": {},
     "output_type": "execute_result"
    }
   ],
   "source": [
    "d1 |= d2\n",
    "d1"
   ]
  },
  {
   "cell_type": "markdown",
   "id": "8d7d6c72-8dd8-4652-9615-17cbb417dfbc",
   "metadata": {},
   "source": [
    "## 使用模式匹配处理映射"
   ]
  },
  {
   "cell_type": "code",
   "execution_count": 1,
   "id": "522b70f3-d4d6-429a-80d2-d59e0aedb509",
   "metadata": {},
   "outputs": [],
   "source": [
    "# Python 3.10 支持"
   ]
  },
  {
   "cell_type": "code",
   "execution_count": 2,
   "id": "dd3032f3-bbbf-4c8c-9285-7344a0444124",
   "metadata": {},
   "outputs": [],
   "source": [
    "# def get_creators(record: dict) -> list:\n",
    "#     match record:\n",
    "#         case {'type': 'book', 'api': 2, 'authors': [*names]}:  # <1>\n",
    "#             return names\n",
    "#         case {'type': 'book', 'api': 1, 'author': name}:  # <2>\n",
    "#             return [name]\n",
    "#         case {'type': 'book'}:  # <3>\n",
    "#             raise ValueError(f\"Invalid 'book' record: {record!r}\")\n",
    "#         case {'type': 'movie', 'director': name}:  # <4>\n",
    "#             return [name]\n",
    "#         case _:  # <5>\n",
    "#             raise ValueError(f'Invalid record: {record!r}')"
   ]
  },
  {
   "cell_type": "markdown",
   "id": "6e4e7dfd-2f01-4d61-a86f-911cae85e356",
   "metadata": {},
   "source": [
    "## 映射类型的标准 API"
   ]
  },
  {
   "cell_type": "code",
   "execution_count": 3,
   "id": "2892e249-06ad-4309-94f7-3080e97b8847",
   "metadata": {},
   "outputs": [],
   "source": [
    "my_dict = {}"
   ]
  },
  {
   "cell_type": "code",
   "execution_count": 5,
   "id": "e865c00b-644b-49db-a91f-a8b84d905cdc",
   "metadata": {},
   "outputs": [
    {
     "data": {
      "text/plain": [
       "True"
      ]
     },
     "execution_count": 5,
     "metadata": {},
     "output_type": "execute_result"
    }
   ],
   "source": [
    "from collections import abc\n",
    "\n",
    "isinstance(my_dict, abc.Mapping)"
   ]
  },
  {
   "cell_type": "code",
   "execution_count": 6,
   "id": "32a27875-d617-4e36-9e75-972fbe63bc5e",
   "metadata": {},
   "outputs": [
    {
     "data": {
      "text/plain": [
       "True"
      ]
     },
     "execution_count": 6,
     "metadata": {},
     "output_type": "execute_result"
    }
   ],
   "source": [
    "isinstance(my_dict, abc.MutableMapping)"
   ]
  },
  {
   "cell_type": "markdown",
   "id": "2d1b9405-4379-4679-96bf-33ed9374e738",
   "metadata": {},
   "source": [
    "### 可哈希指什么"
   ]
  },
  {
   "cell_type": "code",
   "execution_count": 7,
   "id": "854110a8-0e0a-492d-bddb-068d1f7afb5c",
   "metadata": {},
   "outputs": [],
   "source": [
    "tt = (1, 2, (30, 40))"
   ]
  },
  {
   "cell_type": "code",
   "execution_count": 8,
   "id": "a2df57c3-574a-402b-8364-23d2602f79d1",
   "metadata": {},
   "outputs": [
    {
     "data": {
      "text/plain": [
       "-3907003130834322577"
      ]
     },
     "execution_count": 8,
     "metadata": {},
     "output_type": "execute_result"
    }
   ],
   "source": [
    "hash(tt)"
   ]
  },
  {
   "cell_type": "code",
   "execution_count": 9,
   "id": "d37ed48e-ab00-4da8-af30-b8202a04c1fd",
   "metadata": {},
   "outputs": [],
   "source": [
    "t1 = (1, 2, [30, 40])"
   ]
  },
  {
   "cell_type": "code",
   "execution_count": 10,
   "id": "09394bc9-0d9e-428b-a33d-d28ef6472e77",
   "metadata": {},
   "outputs": [
    {
     "ename": "TypeError",
     "evalue": "unhashable type: 'list'",
     "output_type": "error",
     "traceback": [
      "\u001b[0;31m---------------------------------------------------------------------------\u001b[0m",
      "\u001b[0;31mTypeError\u001b[0m                                 Traceback (most recent call last)",
      "\u001b[0;32m/var/folders/9h/t19xzfs55gb8qvvt24mncq7c0000gn/T/ipykernel_74328/2494151989.py\u001b[0m in \u001b[0;36m<module>\u001b[0;34m\u001b[0m\n\u001b[0;32m----> 1\u001b[0;31m \u001b[0mhash\u001b[0m\u001b[0;34m(\u001b[0m\u001b[0mt1\u001b[0m\u001b[0;34m)\u001b[0m\u001b[0;34m\u001b[0m\u001b[0;34m\u001b[0m\u001b[0m\n\u001b[0m",
      "\u001b[0;31mTypeError\u001b[0m: unhashable type: 'list'"
     ]
    }
   ],
   "source": [
    "hash(t1)"
   ]
  },
  {
   "cell_type": "code",
   "execution_count": 11,
   "id": "1fcaba85-788a-4398-88c6-492b438c94f7",
   "metadata": {},
   "outputs": [],
   "source": [
    "# 仅当所有项均可哈希，tuple 对象才是可哈希的"
   ]
  },
  {
   "cell_type": "code",
   "execution_count": 13,
   "id": "242d5531-0407-4bf0-a87d-6c065ca32b2d",
   "metadata": {},
   "outputs": [
    {
     "data": {
      "text/plain": [
       "5149391500123939311"
      ]
     },
     "execution_count": 13,
     "metadata": {},
     "output_type": "execute_result"
    }
   ],
   "source": [
    "tf = (1, 2, frozenset([30, 40]))\n",
    "hash(tf)"
   ]
  },
  {
   "cell_type": "markdown",
   "id": "e774df59-71a7-4b10-b5b4-f6995b933687",
   "metadata": {},
   "source": [
    "### 插入或更新可变的值"
   ]
  },
  {
   "cell_type": "code",
   "execution_count": 12,
   "id": "9901f36a-db32-409e-911a-aafefa179b06",
   "metadata": {
    "collapsed": true,
    "jupyter": {
     "outputs_hidden": true
    },
    "tags": []
   },
   "outputs": [
    {
     "name": "stdout",
     "output_type": "stream",
     "text": [
      "a [(19, 48), (20, 53)]\n",
      "Although [(11, 1), (16, 1), (18, 1)]\n",
      "ambiguity [(14, 16)]\n",
      "and [(15, 23)]\n",
      "are [(21, 12)]\n",
      "aren [(10, 15)]\n",
      "at [(16, 38)]\n",
      "bad [(19, 50)]\n",
      "be [(15, 14), (16, 27), (20, 50)]\n",
      "beats [(11, 23)]\n",
      "Beautiful [(3, 1)]\n",
      "better [(3, 14), (4, 13), (5, 11), (6, 12), (7, 9), (8, 11), (17, 8), (18, 25)]\n",
      "break [(10, 40)]\n",
      "by [(1, 20)]\n",
      "cases [(10, 9)]\n",
      "complex [(5, 23)]\n",
      "Complex [(6, 1)]\n",
      "complicated [(6, 24)]\n",
      "counts [(9, 13)]\n",
      "dense [(8, 23)]\n",
      "do [(15, 64), (21, 48)]\n",
      "Dutch [(16, 61)]\n",
      "easy [(20, 26)]\n",
      "enough [(10, 30)]\n",
      "Errors [(12, 1)]\n",
      "explain [(19, 34), (20, 34)]\n",
      "Explicit [(4, 1)]\n",
      "explicitly [(13, 8)]\n",
      "face [(14, 8)]\n",
      "first [(16, 41)]\n",
      "Flat [(7, 1)]\n",
      "good [(20, 55)]\n",
      "great [(21, 28)]\n",
      "guess [(14, 52)]\n",
      "hard [(19, 26)]\n",
      "honking [(21, 20)]\n",
      "idea [(19, 54), (20, 60), (21, 34)]\n",
      "If [(19, 1), (20, 1)]\n",
      "implementation [(19, 8), (20, 8)]\n",
      "implicit [(4, 25)]\n",
      "In [(14, 1)]\n",
      "is [(3, 11), (4, 10), (5, 8), (6, 9), (7, 6), (8, 8), (17, 5), (18, 16), (19, 23), (20, 23)]\n",
      "it [(15, 67), (19, 43), (20, 43)]\n",
      "let [(21, 42)]\n",
      "may [(16, 19), (20, 46)]\n",
      "more [(21, 51)]\n",
      "Namespaces [(21, 1)]\n",
      "nested [(7, 21)]\n",
      "never [(12, 15), (17, 20), (18, 10)]\n",
      "not [(16, 23)]\n",
      "Now [(17, 1)]\n",
      "now [(18, 45)]\n",
      "obvious [(15, 49), (16, 30)]\n",
      "of [(1, 9), (14, 13), (21, 56)]\n",
      "often [(18, 19)]\n",
      "one [(15, 17), (15, 43), (21, 16)]\n",
      "only [(15, 38)]\n",
      "pass [(12, 21)]\n",
      "Peters [(1, 27)]\n",
      "practicality [(11, 10)]\n",
      "preferably [(15, 27)]\n",
      "purity [(11, 29)]\n",
      "Python [(1, 12)]\n",
      "re [(16, 58)]\n",
      "Readability [(9, 1)]\n",
      "refuse [(14, 27)]\n",
      "right [(18, 38)]\n",
      "rules [(10, 50)]\n",
      "s [(19, 46), (21, 46)]\n",
      "should [(12, 8), (15, 7)]\n",
      "silenced [(13, 19)]\n",
      "silently [(12, 26)]\n",
      "Simple [(5, 1)]\n",
      "Sparse [(8, 1)]\n",
      "Special [(10, 1)]\n",
      "special [(10, 22)]\n",
      "t [(10, 20)]\n",
      "temptation [(14, 38)]\n",
      "than [(3, 21), (4, 20), (5, 18), (6, 19), (7, 16), (8, 18), (17, 15), (18, 32)]\n",
      "that [(16, 10)]\n",
      "The [(1, 1)]\n",
      "the [(10, 46), (14, 4), (14, 34), (19, 4), (20, 4)]\n",
      "There [(15, 1)]\n",
      "those [(21, 59)]\n",
      "Tim [(1, 23)]\n",
      "to [(10, 37), (14, 49), (15, 61), (19, 31), (20, 31)]\n",
      "ugly [(3, 26)]\n",
      "Unless [(13, 1)]\n",
      "unless [(16, 47)]\n",
      "way [(15, 57), (16, 15)]\n",
      "you [(16, 54)]\n",
      "Zen [(1, 5)]\n"
     ]
    }
   ],
   "source": [
    "\"\"\"\n",
    "my_dict.setdefault(key, []).append(new_value)\n",
    "\n",
    "等价于\n",
    "\n",
    "occurrences = index.get(word, [])\n",
    "occurrences.append(location)\n",
    "index[word] = occurrences\n",
    "\n",
    "\"\"\"\n",
    "! python index0.py zen.txt"
   ]
  },
  {
   "cell_type": "markdown",
   "id": "a9e66ceb-6991-431e-a973-da87c644efb5",
   "metadata": {},
   "source": [
    "## 自动处理缺失的键"
   ]
  },
  {
   "cell_type": "markdown",
   "id": "4a76be1f-562e-4473-a285-d9ae6c382424",
   "metadata": {},
   "source": [
    "### defaultdict：处理缺失键的一种选择"
   ]
  },
  {
   "cell_type": "code",
   "execution_count": 14,
   "id": "98fc5238-a964-4ee6-a171-8a3e46e7cc2a",
   "metadata": {},
   "outputs": [],
   "source": [
    "# 使用 defaultdict 代替 setdefault 方法"
   ]
  },
  {
   "cell_type": "code",
   "execution_count": 21,
   "id": "a2e7f7c7-f112-4b77-a2ca-8584496b7fab",
   "metadata": {},
   "outputs": [],
   "source": [
    "\"\"\"\n",
    "构建一个索引映射，列出词出现的位置\n",
    "\"\"\"\n",
    "\n",
    "import collections\n",
    "import re\n",
    "import sys\n",
    "\n",
    "def list_word_index(file_path):\n",
    "    WORD_RE = re.compile(r'\\w+')\n",
    "    \n",
    "    # 创建一个 defaultdict 对象，把 default_factory 设为 list 构造函数    \n",
    "    index = collections.defaultdict(list)\n",
    "    with open(file_path, encoding='utf-8') as fp:\n",
    "        for line_no, line in enumerate(fp, 1):\n",
    "            for match in WORD_RE.finditer(line):\n",
    "                word = match.group()\n",
    "                column_no = match.start() + 1\n",
    "                location = (line_no, column_no)\n",
    "                # index.setdefault(word, []).append(location)\n",
    "                index[word].append(location)\n",
    "\n",
    "\n",
    "    # 按字母顺序显示\n",
    "    for word in sorted(index, key=str.upper):\n",
    "        print(word, index[word])"
   ]
  },
  {
   "cell_type": "code",
   "execution_count": 22,
   "id": "ece53987-04ef-4464-a3d6-ba1c3fc66542",
   "metadata": {
    "collapsed": true,
    "jupyter": {
     "outputs_hidden": true
    },
    "tags": []
   },
   "outputs": [
    {
     "name": "stdout",
     "output_type": "stream",
     "text": [
      "a [(19, 48), (20, 53)]\n",
      "Although [(11, 1), (16, 1), (18, 1)]\n",
      "ambiguity [(14, 16)]\n",
      "and [(15, 23)]\n",
      "are [(21, 12)]\n",
      "aren [(10, 15)]\n",
      "at [(16, 38)]\n",
      "bad [(19, 50)]\n",
      "be [(15, 14), (16, 27), (20, 50)]\n",
      "beats [(11, 23)]\n",
      "Beautiful [(3, 1)]\n",
      "better [(3, 14), (4, 13), (5, 11), (6, 12), (7, 9), (8, 11), (17, 8), (18, 25)]\n",
      "break [(10, 40)]\n",
      "by [(1, 20)]\n",
      "cases [(10, 9)]\n",
      "complex [(5, 23)]\n",
      "Complex [(6, 1)]\n",
      "complicated [(6, 24)]\n",
      "counts [(9, 13)]\n",
      "dense [(8, 23)]\n",
      "do [(15, 64), (21, 48)]\n",
      "Dutch [(16, 61)]\n",
      "easy [(20, 26)]\n",
      "enough [(10, 30)]\n",
      "Errors [(12, 1)]\n",
      "explain [(19, 34), (20, 34)]\n",
      "Explicit [(4, 1)]\n",
      "explicitly [(13, 8)]\n",
      "face [(14, 8)]\n",
      "first [(16, 41)]\n",
      "Flat [(7, 1)]\n",
      "good [(20, 55)]\n",
      "great [(21, 28)]\n",
      "guess [(14, 52)]\n",
      "hard [(19, 26)]\n",
      "honking [(21, 20)]\n",
      "idea [(19, 54), (20, 60), (21, 34)]\n",
      "If [(19, 1), (20, 1)]\n",
      "implementation [(19, 8), (20, 8)]\n",
      "implicit [(4, 25)]\n",
      "In [(14, 1)]\n",
      "is [(3, 11), (4, 10), (5, 8), (6, 9), (7, 6), (8, 8), (17, 5), (18, 16), (19, 23), (20, 23)]\n",
      "it [(15, 67), (19, 43), (20, 43)]\n",
      "let [(21, 42)]\n",
      "may [(16, 19), (20, 46)]\n",
      "more [(21, 51)]\n",
      "Namespaces [(21, 1)]\n",
      "nested [(7, 21)]\n",
      "never [(12, 15), (17, 20), (18, 10)]\n",
      "not [(16, 23)]\n",
      "Now [(17, 1)]\n",
      "now [(18, 45)]\n",
      "obvious [(15, 49), (16, 30)]\n",
      "of [(1, 9), (14, 13), (21, 56)]\n",
      "often [(18, 19)]\n",
      "one [(15, 17), (15, 43), (21, 16)]\n",
      "only [(15, 38)]\n",
      "pass [(12, 21)]\n",
      "Peters [(1, 27)]\n",
      "practicality [(11, 10)]\n",
      "preferably [(15, 27)]\n",
      "purity [(11, 29)]\n",
      "Python [(1, 12)]\n",
      "re [(16, 58)]\n",
      "Readability [(9, 1)]\n",
      "refuse [(14, 27)]\n",
      "right [(18, 38)]\n",
      "rules [(10, 50)]\n",
      "s [(19, 46), (21, 46)]\n",
      "should [(12, 8), (15, 7)]\n",
      "silenced [(13, 19)]\n",
      "silently [(12, 26)]\n",
      "Simple [(5, 1)]\n",
      "Sparse [(8, 1)]\n",
      "Special [(10, 1)]\n",
      "special [(10, 22)]\n",
      "t [(10, 20)]\n",
      "temptation [(14, 38)]\n",
      "than [(3, 21), (4, 20), (5, 18), (6, 19), (7, 16), (8, 18), (17, 15), (18, 32)]\n",
      "that [(16, 10)]\n",
      "The [(1, 1)]\n",
      "the [(10, 46), (14, 4), (14, 34), (19, 4), (20, 4)]\n",
      "There [(15, 1)]\n",
      "those [(21, 59)]\n",
      "Tim [(1, 23)]\n",
      "to [(10, 37), (14, 49), (15, 61), (19, 31), (20, 31)]\n",
      "ugly [(3, 26)]\n",
      "Unless [(13, 1)]\n",
      "unless [(16, 47)]\n",
      "way [(15, 57), (16, 15)]\n",
      "you [(16, 54)]\n",
      "Zen [(1, 5)]\n"
     ]
    }
   ],
   "source": [
    "list_word_index('zen.txt')"
   ]
  },
  {
   "cell_type": "markdown",
   "id": "0360cb02-70b9-4c8a-a598-5cd42b4ee99d",
   "metadata": {},
   "source": [
    "### `__missing__` 方法"
   ]
  },
  {
   "cell_type": "code",
   "execution_count": 23,
   "id": "77ce5acd-ca4d-4244-bf5c-c0249243e80a",
   "metadata": {},
   "outputs": [],
   "source": [
    "class StrKeyDict0(dict):\n",
    "    \n",
    "    def __missing__(self, key):\n",
    "        if isinstance(key, str):\n",
    "            raise KeyError(key)\n",
    "        return self[str(key)]\n",
    "    \n",
    "    def get(self, key, default=None):\n",
    "        try:\n",
    "            return self[key]\n",
    "        except KeyError:\n",
    "            return default\n",
    "    \n",
    "    def __contains__(self, key):\n",
    "        return key in self.keys() or str(key) in self.keys()"
   ]
  },
  {
   "cell_type": "code",
   "execution_count": 24,
   "id": "4abf1ab6-bb86-443d-b6a2-63b940e126a8",
   "metadata": {},
   "outputs": [],
   "source": [
    "# 搜索非字符串键时，StrKeyDict0 把未找到的键转换成字符串"
   ]
  },
  {
   "cell_type": "code",
   "execution_count": 25,
   "id": "2df2eca2-fe75-4f33-aced-f90e36294273",
   "metadata": {},
   "outputs": [],
   "source": [
    "d = StrKeyDict0([('2', 'two'), ('4', 'four')])"
   ]
  },
  {
   "cell_type": "code",
   "execution_count": 26,
   "id": "29ebb5b2-17d5-4bd7-8546-2815556cef6c",
   "metadata": {},
   "outputs": [
    {
     "data": {
      "text/plain": [
       "'two'"
      ]
     },
     "execution_count": 26,
     "metadata": {},
     "output_type": "execute_result"
    }
   ],
   "source": [
    "d['2']"
   ]
  },
  {
   "cell_type": "code",
   "execution_count": 27,
   "id": "439b9635-7528-419d-a6ac-7cb58cc426fc",
   "metadata": {},
   "outputs": [
    {
     "data": {
      "text/plain": [
       "'four'"
      ]
     },
     "execution_count": 27,
     "metadata": {},
     "output_type": "execute_result"
    }
   ],
   "source": [
    "d['4']"
   ]
  },
  {
   "cell_type": "code",
   "execution_count": 31,
   "id": "4819dcda-f879-45f2-bb3d-2dc116450ae6",
   "metadata": {
    "tags": []
   },
   "outputs": [
    {
     "ename": "KeyError",
     "evalue": "'1'",
     "output_type": "error",
     "traceback": [
      "\u001b[0;31m---------------------------------------------------------------------------\u001b[0m",
      "\u001b[0;31mKeyError\u001b[0m                                  Traceback (most recent call last)",
      "\u001b[0;32m/var/folders/9h/t19xzfs55gb8qvvt24mncq7c0000gn/T/ipykernel_34891/1184131724.py\u001b[0m in \u001b[0;36m<module>\u001b[0;34m\u001b[0m\n\u001b[0;32m----> 1\u001b[0;31m \u001b[0md\u001b[0m\u001b[0;34m[\u001b[0m\u001b[0;34m'1'\u001b[0m\u001b[0;34m]\u001b[0m\u001b[0;34m\u001b[0m\u001b[0;34m\u001b[0m\u001b[0m\n\u001b[0m",
      "\u001b[0;32m/var/folders/9h/t19xzfs55gb8qvvt24mncq7c0000gn/T/ipykernel_34891/3118550484.py\u001b[0m in \u001b[0;36m__missing__\u001b[0;34m(self, key)\u001b[0m\n\u001b[1;32m      3\u001b[0m     \u001b[0;32mdef\u001b[0m \u001b[0m__missing__\u001b[0m\u001b[0;34m(\u001b[0m\u001b[0mself\u001b[0m\u001b[0;34m,\u001b[0m \u001b[0mkey\u001b[0m\u001b[0;34m)\u001b[0m\u001b[0;34m:\u001b[0m\u001b[0;34m\u001b[0m\u001b[0;34m\u001b[0m\u001b[0m\n\u001b[1;32m      4\u001b[0m         \u001b[0;32mif\u001b[0m \u001b[0misinstance\u001b[0m\u001b[0;34m(\u001b[0m\u001b[0mkey\u001b[0m\u001b[0;34m,\u001b[0m \u001b[0mstr\u001b[0m\u001b[0;34m)\u001b[0m\u001b[0;34m:\u001b[0m\u001b[0;34m\u001b[0m\u001b[0;34m\u001b[0m\u001b[0m\n\u001b[0;32m----> 5\u001b[0;31m             \u001b[0;32mraise\u001b[0m \u001b[0mKeyError\u001b[0m\u001b[0;34m(\u001b[0m\u001b[0mkey\u001b[0m\u001b[0;34m)\u001b[0m\u001b[0;34m\u001b[0m\u001b[0;34m\u001b[0m\u001b[0m\n\u001b[0m\u001b[1;32m      6\u001b[0m         \u001b[0;32mreturn\u001b[0m \u001b[0mself\u001b[0m\u001b[0;34m[\u001b[0m\u001b[0mstr\u001b[0m\u001b[0;34m(\u001b[0m\u001b[0mkey\u001b[0m\u001b[0;34m)\u001b[0m\u001b[0;34m]\u001b[0m\u001b[0;34m\u001b[0m\u001b[0;34m\u001b[0m\u001b[0m\n\u001b[1;32m      7\u001b[0m \u001b[0;34m\u001b[0m\u001b[0m\n",
      "\u001b[0;31mKeyError\u001b[0m: '1'"
     ]
    }
   ],
   "source": [
    "d['1']"
   ]
  },
  {
   "cell_type": "code",
   "execution_count": 29,
   "id": "8f3daadb-909c-4dc3-8433-7e95266db2a2",
   "metadata": {},
   "outputs": [
    {
     "data": {
      "text/plain": [
       "'four'"
      ]
     },
     "execution_count": 29,
     "metadata": {},
     "output_type": "execute_result"
    }
   ],
   "source": [
    "d[4]"
   ]
  },
  {
   "cell_type": "code",
   "execution_count": 30,
   "id": "8b3b79f2-7ea4-49a8-8e12-ac824933cb46",
   "metadata": {},
   "outputs": [
    {
     "data": {
      "text/plain": [
       "'N/A'"
      ]
     },
     "execution_count": 30,
     "metadata": {},
     "output_type": "execute_result"
    }
   ],
   "source": [
    "d.get(1, 'N/A')"
   ]
  },
  {
   "cell_type": "markdown",
   "id": "8b5ed4e4-b19e-4457-80ba-bb59053e2cfa",
   "metadata": {},
   "source": [
    "## dict 的变体"
   ]
  },
  {
   "cell_type": "markdown",
   "id": "3b93e5b7-c266-4df8-9277-b333a533254f",
   "metadata": {},
   "source": [
    "### collections.OrderedDict"
   ]
  },
  {
   "cell_type": "markdown",
   "id": "7225d059-e795-4756-88bc-c703094a22a2",
   "metadata": {
    "tags": []
   },
   "source": [
    "### collections.ChainMap"
   ]
  },
  {
   "cell_type": "code",
   "execution_count": 33,
   "id": "6846a829-9d96-4ac0-8be4-918e315ad24b",
   "metadata": {},
   "outputs": [],
   "source": [
    "# ChainMap 实例存放一组映射，可作为一个整体来搜索。\n",
    "# 查找操作按照输入映射在构造函数调用中出现的顺序执行，一旦在某个映射中找到指定的键，旋即结束。"
   ]
  },
  {
   "cell_type": "code",
   "execution_count": 34,
   "id": "142a7615-435c-4786-9198-01c271eef5f1",
   "metadata": {},
   "outputs": [],
   "source": [
    "d1 = dict(a=1, b=3)\n",
    "d2 = dict(a=2, b=4, c=6)\n",
    "\n",
    "from collections import ChainMap\n",
    "chain = ChainMap(d1, d2)"
   ]
  },
  {
   "cell_type": "code",
   "execution_count": 35,
   "id": "6cf51e74-a1e6-400c-9203-87671c14dcb2",
   "metadata": {},
   "outputs": [
    {
     "data": {
      "text/plain": [
       "1"
      ]
     },
     "execution_count": 35,
     "metadata": {},
     "output_type": "execute_result"
    }
   ],
   "source": [
    "chain['a']"
   ]
  },
  {
   "cell_type": "code",
   "execution_count": 36,
   "id": "7736cafd-a99c-4bc6-b832-6ddd7f28d993",
   "metadata": {},
   "outputs": [
    {
     "data": {
      "text/plain": [
       "6"
      ]
     },
     "execution_count": 36,
     "metadata": {},
     "output_type": "execute_result"
    }
   ],
   "source": [
    "chain['c']"
   ]
  },
  {
   "cell_type": "code",
   "execution_count": 37,
   "id": "08bb9856-e012-49fe-baae-1ee70441071a",
   "metadata": {},
   "outputs": [],
   "source": [
    "# ChainMap 的更新或插入操作只影响第一个输入映射"
   ]
  },
  {
   "cell_type": "code",
   "execution_count": 38,
   "id": "4c911a14-83ce-4525-aa43-79c59853238d",
   "metadata": {},
   "outputs": [],
   "source": [
    "chain['c'] = -1"
   ]
  },
  {
   "cell_type": "code",
   "execution_count": 39,
   "id": "fc0f7fb0-935f-4e23-a1c1-7ce6bd44faee",
   "metadata": {},
   "outputs": [
    {
     "data": {
      "text/plain": [
       "{'a': 1, 'b': 3, 'c': -1}"
      ]
     },
     "execution_count": 39,
     "metadata": {},
     "output_type": "execute_result"
    }
   ],
   "source": [
    "d1"
   ]
  },
  {
   "cell_type": "code",
   "execution_count": 40,
   "id": "46e55a19-2d9b-407a-af88-807dd52413eb",
   "metadata": {},
   "outputs": [
    {
     "data": {
      "text/plain": [
       "{'a': 2, 'b': 4, 'c': 6}"
      ]
     },
     "execution_count": 40,
     "metadata": {},
     "output_type": "execute_result"
    }
   ],
   "source": [
    "d2"
   ]
  },
  {
   "cell_type": "markdown",
   "id": "63134506-65f0-4521-8f23-cf704a00c606",
   "metadata": {
    "tags": []
   },
   "source": [
    "### collections.Counter"
   ]
  },
  {
   "cell_type": "code",
   "execution_count": 41,
   "id": "c6585b76-178f-45ae-9775-982bf1ff006d",
   "metadata": {},
   "outputs": [],
   "source": [
    "# 这是一种对键计数的映射。更新现有的键，计数随之增加。"
   ]
  },
  {
   "cell_type": "code",
   "execution_count": 42,
   "id": "3ad9b1d7-822f-45dd-8971-c43caca075fc",
   "metadata": {},
   "outputs": [
    {
     "data": {
      "text/plain": [
       "Counter({'a': 5,\n",
       "         'b': 1,\n",
       "         'r': 1,\n",
       "         'c': 1,\n",
       "         's': 1,\n",
       "         'd': 2,\n",
       "         'w': 2,\n",
       "         'k': 1,\n",
       "         'i': 1})"
      ]
     },
     "execution_count": 42,
     "metadata": {},
     "output_type": "execute_result"
    }
   ],
   "source": [
    "ct = collections.Counter('abraaacsdawdkiw')\n",
    "ct"
   ]
  },
  {
   "cell_type": "code",
   "execution_count": 43,
   "id": "aea6af81-c7c0-4949-bac4-9698fc9f7634",
   "metadata": {},
   "outputs": [],
   "source": [
    "ct.update('bbccrr')"
   ]
  },
  {
   "cell_type": "code",
   "execution_count": 44,
   "id": "692a2e1d-83d9-44e4-a1d4-dbcfd9f4b2dc",
   "metadata": {},
   "outputs": [
    {
     "data": {
      "text/plain": [
       "Counter({'a': 5,\n",
       "         'b': 3,\n",
       "         'r': 3,\n",
       "         'c': 3,\n",
       "         's': 1,\n",
       "         'd': 2,\n",
       "         'w': 2,\n",
       "         'k': 1,\n",
       "         'i': 1})"
      ]
     },
     "execution_count": 44,
     "metadata": {},
     "output_type": "execute_result"
    }
   ],
   "source": [
    "ct"
   ]
  },
  {
   "cell_type": "code",
   "execution_count": 45,
   "id": "b3a97a83-351e-4605-ba7b-189a8522b5c3",
   "metadata": {},
   "outputs": [
    {
     "data": {
      "text/plain": [
       "[('a', 5), ('b', 3), ('r', 3)]"
      ]
     },
     "execution_count": 45,
     "metadata": {},
     "output_type": "execute_result"
    }
   ],
   "source": [
    "ct.most_common(3)"
   ]
  },
  {
   "cell_type": "markdown",
   "id": "303744bc-bed7-44a3-bd1c-61967f9ebf44",
   "metadata": {},
   "source": [
    "### shelve.Shelf"
   ]
  },
  {
   "cell_type": "markdown",
   "id": "c7515813-7085-4544-85c3-42871fa90385",
   "metadata": {},
   "source": [
    "### 子类应继承 UserDict 而不是 dict"
   ]
  },
  {
   "cell_type": "code",
   "execution_count": 50,
   "id": "7fddc7df-7d5f-48db-8020-60f179f1a1b5",
   "metadata": {},
   "outputs": [],
   "source": [
    "# 创建新的映射类型，最好扩展 collections.UserDict，而不是 dict。\n",
    "# 主要原因是，内置的 dict 在实现上走了一些捷径，如果继承 dict，那就不得不覆盖一些方法，而继承 UserDict 则没有这些问题。"
   ]
  },
  {
   "cell_type": "markdown",
   "id": "488683b2-1c0d-4398-b67d-72eaa77d5331",
   "metadata": {},
   "source": [
    "#### StrKeyDict"
   ]
  },
  {
   "cell_type": "code",
   "execution_count": 56,
   "id": "b607c725-e3b6-4a61-b1f6-0175271b5402",
   "metadata": {},
   "outputs": [],
   "source": [
    "\"\"\"\n",
    "StrKeyDict 继承 UserDict，实现过程比 StrKeyDict0（示例 3-8）更简洁，而且功能更丰富：\n",
    "所有键都以 str 类型存储，使用包含非字符串键的数据构建或更新实例不会发生意外情况。\n",
    "\"\"\"\n",
    "\n",
    "import collections\n",
    "\n",
    "\n",
    "class StrKeyDict(collections.UserDict):\n",
    "\n",
    "    def __missing__(self, key):\n",
    "        if isinstance(key, str):\n",
    "            raise KeyError(key)\n",
    "        return self[str(key)]\n",
    "\n",
    "    def __contains__(self, key):\n",
    "        return str(key) in self.data\n",
    "\n",
    "    def __setitem__(self, key, item):\n",
    "        self.data[str(key)] = item"
   ]
  },
  {
   "cell_type": "markdown",
   "id": "6086dc71-add5-4c93-9724-ff044fc43e49",
   "metadata": {},
   "source": [
    "## 不可变映射"
   ]
  },
  {
   "cell_type": "markdown",
   "id": "c46982de-4e5b-4dc7-ad58-7b32800532aa",
   "metadata": {},
   "source": [
    "### MappingProxyType"
   ]
  },
  {
   "cell_type": "code",
   "execution_count": 57,
   "id": "0997a3b2-07f8-48fd-b6a8-6c7c6fbbfc73",
   "metadata": {},
   "outputs": [],
   "source": [
    "# MappingProxyType 根据 dict 对象构建只读的 mappingproxy 实例"
   ]
  },
  {
   "cell_type": "code",
   "execution_count": 58,
   "id": "791abc91-d5b4-4204-b9cb-0ca0800f7f81",
   "metadata": {},
   "outputs": [],
   "source": [
    "from types import MappingProxyType"
   ]
  },
  {
   "cell_type": "code",
   "execution_count": 63,
   "id": "8bb714bf-8152-4779-81d3-740b66780b02",
   "metadata": {},
   "outputs": [
    {
     "data": {
      "text/plain": [
       "mappingproxy({1: 'A'})"
      ]
     },
     "execution_count": 63,
     "metadata": {},
     "output_type": "execute_result"
    }
   ],
   "source": [
    "d = {1:'A'}\n",
    "d_proxy = MappingProxyType(d)\n",
    "d_proxy"
   ]
  },
  {
   "cell_type": "code",
   "execution_count": 64,
   "id": "01c11529-c601-4d8d-96a5-7dd8033e1c63",
   "metadata": {},
   "outputs": [
    {
     "data": {
      "text/plain": [
       "'A'"
      ]
     },
     "execution_count": 64,
     "metadata": {},
     "output_type": "execute_result"
    }
   ],
   "source": [
    "d_proxy[1]"
   ]
  },
  {
   "cell_type": "code",
   "execution_count": 65,
   "id": "99b7bff7-6bbb-4a82-9314-f896929680e5",
   "metadata": {},
   "outputs": [
    {
     "ename": "TypeError",
     "evalue": "'mappingproxy' object does not support item assignment",
     "output_type": "error",
     "traceback": [
      "\u001b[0;31m---------------------------------------------------------------------------\u001b[0m",
      "\u001b[0;31mTypeError\u001b[0m                                 Traceback (most recent call last)",
      "\u001b[0;32m/var/folders/9h/t19xzfs55gb8qvvt24mncq7c0000gn/T/ipykernel_34891/184757266.py\u001b[0m in \u001b[0;36m<module>\u001b[0;34m\u001b[0m\n\u001b[0;32m----> 1\u001b[0;31m \u001b[0md_proxy\u001b[0m\u001b[0;34m[\u001b[0m\u001b[0;36m2\u001b[0m\u001b[0;34m]\u001b[0m \u001b[0;34m=\u001b[0m \u001b[0;34m'x'\u001b[0m\u001b[0;34m\u001b[0m\u001b[0;34m\u001b[0m\u001b[0m\n\u001b[0m",
      "\u001b[0;31mTypeError\u001b[0m: 'mappingproxy' object does not support item assignment"
     ]
    }
   ],
   "source": [
    "d_proxy[2] = 'x'"
   ]
  },
  {
   "cell_type": "code",
   "execution_count": 66,
   "id": "062e4b85-8036-4941-ac28-dc47b76cead4",
   "metadata": {},
   "outputs": [],
   "source": [
    "d[2] = 'B'"
   ]
  },
  {
   "cell_type": "code",
   "execution_count": 67,
   "id": "5de5b057-9abe-4503-ad4b-af200f3eb457",
   "metadata": {},
   "outputs": [
    {
     "data": {
      "text/plain": [
       "mappingproxy({1: 'A', 2: 'B'})"
      ]
     },
     "execution_count": 67,
     "metadata": {},
     "output_type": "execute_result"
    }
   ],
   "source": [
    "d_proxy"
   ]
  },
  {
   "cell_type": "code",
   "execution_count": 68,
   "id": "f72ad5e0-e9c4-471d-b0fd-c24e4daa7a38",
   "metadata": {},
   "outputs": [
    {
     "data": {
      "text/plain": [
       "'B'"
      ]
     },
     "execution_count": 68,
     "metadata": {},
     "output_type": "execute_result"
    }
   ],
   "source": [
    "d_proxy[2]"
   ]
  },
  {
   "cell_type": "markdown",
   "id": "c9f30774-69de-4ee2-ace0-e74616f662f9",
   "metadata": {},
   "source": [
    "## 字典视图"
   ]
  },
  {
   "cell_type": "code",
   "execution_count": 70,
   "id": "f87d4eb0-da08-4d6c-8230-709b616ca786",
   "metadata": {},
   "outputs": [],
   "source": [
    "# dict 的实例方法 .keys()、.values() 和 .items() 分别返回 dict_keys、dict_values 和 dict_items 类的实例"
   ]
  },
  {
   "cell_type": "markdown",
   "id": "6c82b80a-e28a-4c13-912b-becdcaa99079",
   "metadata": {},
   "source": [
    "### `.values()` 方法返回 dict 对象的值视图"
   ]
  },
  {
   "cell_type": "code",
   "execution_count": 81,
   "id": "31152be9-5dd1-450a-a1f0-815e699d8bb2",
   "metadata": {},
   "outputs": [
    {
     "data": {
      "text/plain": [
       "dict_values([10, 20, 30])"
      ]
     },
     "execution_count": 81,
     "metadata": {},
     "output_type": "execute_result"
    }
   ],
   "source": [
    "d = dict(a=10, b=20, c=30)\n",
    "values = d.values()\n",
    "values"
   ]
  },
  {
   "cell_type": "code",
   "execution_count": 82,
   "id": "ff8547f0-c039-4247-9e23-b06a648c2c73",
   "metadata": {},
   "outputs": [
    {
     "data": {
      "text/plain": [
       "3"
      ]
     },
     "execution_count": 82,
     "metadata": {},
     "output_type": "execute_result"
    }
   ],
   "source": [
    "len(values)"
   ]
  },
  {
   "cell_type": "code",
   "execution_count": 83,
   "id": "b239f529-f8bd-4ad3-8b1a-ea5cdce94f31",
   "metadata": {},
   "outputs": [
    {
     "data": {
      "text/plain": [
       "[10, 20, 30]"
      ]
     },
     "execution_count": 83,
     "metadata": {},
     "output_type": "execute_result"
    }
   ],
   "source": [
    "list(values)"
   ]
  },
  {
   "cell_type": "code",
   "execution_count": 84,
   "id": "391f3583-73c9-4a56-b7c1-2e9eedb303cc",
   "metadata": {},
   "outputs": [
    {
     "data": {
      "text/plain": [
       "<dict_reversevalueiterator at 0x7f8d10ae7f40>"
      ]
     },
     "execution_count": 84,
     "metadata": {},
     "output_type": "execute_result"
    }
   ],
   "source": [
    "# 视图实现了 __reversed__ 方法，返回一个自定义迭代器\n",
    "reversed(values)"
   ]
  },
  {
   "cell_type": "code",
   "execution_count": 85,
   "id": "613bed54-7d05-4059-bd52-3dbb53cdc6ce",
   "metadata": {},
   "outputs": [
    {
     "ename": "TypeError",
     "evalue": "'dict_values' object is not subscriptable",
     "output_type": "error",
     "traceback": [
      "\u001b[0;31m---------------------------------------------------------------------------\u001b[0m",
      "\u001b[0;31mTypeError\u001b[0m                                 Traceback (most recent call last)",
      "\u001b[0;32m/var/folders/9h/t19xzfs55gb8qvvt24mncq7c0000gn/T/ipykernel_34891/2765555192.py\u001b[0m in \u001b[0;36m<module>\u001b[0;34m\u001b[0m\n\u001b[1;32m      1\u001b[0m \u001b[0;31m# 不能使用 [] 获取视图中的项\u001b[0m\u001b[0;34m\u001b[0m\u001b[0;34m\u001b[0m\u001b[0m\n\u001b[0;32m----> 2\u001b[0;31m \u001b[0mvalues\u001b[0m\u001b[0;34m[\u001b[0m\u001b[0;36m0\u001b[0m\u001b[0;34m]\u001b[0m\u001b[0;34m\u001b[0m\u001b[0;34m\u001b[0m\u001b[0m\n\u001b[0m",
      "\u001b[0;31mTypeError\u001b[0m: 'dict_values' object is not subscriptable"
     ]
    }
   ],
   "source": [
    "# 不能使用 [] 获取视图中的项\n",
    "values[0]"
   ]
  },
  {
   "cell_type": "code",
   "execution_count": 91,
   "id": "ebc2eaa0-7c0f-4a86-8e6e-945750e63ff1",
   "metadata": {},
   "outputs": [
    {
     "data": {
      "text/plain": [
       "{'a': 10, 'b': 20, 'c': 30, 'z': 99}"
      ]
     },
     "execution_count": 91,
     "metadata": {},
     "output_type": "execute_result"
    }
   ],
   "source": [
    "# 视图对象是动态代理。更新原 dict 对象后，现有视图立即就能看到变化。\n",
    "\n",
    "d['z'] = 99\n",
    "d"
   ]
  },
  {
   "cell_type": "code",
   "execution_count": 92,
   "id": "43420a69-4fb6-44ab-a441-1627d83d77a7",
   "metadata": {},
   "outputs": [
    {
     "data": {
      "text/plain": [
       "dict_values([10, 20, 30, 99])"
      ]
     },
     "execution_count": 92,
     "metadata": {},
     "output_type": "execute_result"
    }
   ],
   "source": [
    "values"
   ]
  },
  {
   "cell_type": "code",
   "execution_count": 93,
   "id": "7d2448d8-a63d-4752-bb76-186ca799a1ae",
   "metadata": {},
   "outputs": [],
   "source": [
    "# dict_keys、dict_values 和 dict_items 是内部类，不能通过 __builtins__ 或标准库中的任何模块获取，\n",
    "# 尽管可以得到实例，但是在 Python 代码中不能自己动手创建。"
   ]
  },
  {
   "cell_type": "code",
   "execution_count": 94,
   "id": "b76446cc-a9b1-4821-a296-a8da60d2979d",
   "metadata": {},
   "outputs": [],
   "source": [
    "values_class = type({}.values())"
   ]
  },
  {
   "cell_type": "code",
   "execution_count": 95,
   "id": "ec440c3e-6233-43af-828d-53028eb152b9",
   "metadata": {},
   "outputs": [
    {
     "ename": "TypeError",
     "evalue": "cannot create 'dict_values' instances",
     "output_type": "error",
     "traceback": [
      "\u001b[0;31m---------------------------------------------------------------------------\u001b[0m",
      "\u001b[0;31mTypeError\u001b[0m                                 Traceback (most recent call last)",
      "\u001b[0;32m/var/folders/9h/t19xzfs55gb8qvvt24mncq7c0000gn/T/ipykernel_34891/1685745827.py\u001b[0m in \u001b[0;36m<module>\u001b[0;34m\u001b[0m\n\u001b[0;32m----> 1\u001b[0;31m \u001b[0mv\u001b[0m\u001b[0;34m=\u001b[0m \u001b[0mvalues_class\u001b[0m\u001b[0;34m(\u001b[0m\u001b[0;34m)\u001b[0m\u001b[0;34m\u001b[0m\u001b[0;34m\u001b[0m\u001b[0m\n\u001b[0m",
      "\u001b[0;31mTypeError\u001b[0m: cannot create 'dict_values' instances"
     ]
    }
   ],
   "source": [
    "v= values_class()"
   ]
  },
  {
   "cell_type": "markdown",
   "id": "d13461bb-5820-4a2f-ad49-78900dfcae53",
   "metadata": {},
   "source": [
    "## 集合 set"
   ]
  },
  {
   "cell_type": "code",
   "execution_count": 3,
   "id": "88ec51c5-3719-42f9-8268-ad2159cae299",
   "metadata": {},
   "outputs": [],
   "source": [
    "# 集合是一组唯一的对象。集合的基本作用是去除重复项。"
   ]
  },
  {
   "cell_type": "code",
   "execution_count": 1,
   "id": "2d2fd132-890b-4ea3-aaad-b05a56f01d70",
   "metadata": {},
   "outputs": [
    {
     "data": {
      "text/plain": [
       "{'bacon', 'eggs', 'spam'}"
      ]
     },
     "execution_count": 1,
     "metadata": {},
     "output_type": "execute_result"
    }
   ],
   "source": [
    "l = ['spam', 'spam', 'eggs', 'spam', 'bacon', 'eggs']\n",
    "set(l)"
   ]
  },
  {
   "cell_type": "code",
   "execution_count": 2,
   "id": "2cf41b2b-dab8-456f-aade-9005ac9135c2",
   "metadata": {},
   "outputs": [
    {
     "data": {
      "text/plain": [
       "['eggs', 'spam', 'bacon']"
      ]
     },
     "execution_count": 2,
     "metadata": {},
     "output_type": "execute_result"
    }
   ],
   "source": [
    "list(set(l))"
   ]
  },
  {
   "cell_type": "code",
   "execution_count": 6,
   "id": "5afab520-fd80-42bc-88f2-92ed657ffd3c",
   "metadata": {},
   "outputs": [
    {
     "data": {
      "text/plain": [
       "dict_keys(['spam', 'eggs', 'bacon'])"
      ]
     },
     "execution_count": 6,
     "metadata": {},
     "output_type": "execute_result"
    }
   ],
   "source": [
    "# 如果想去除重复项，同时保留每一项首次出现位置的顺序，那么现在使用普通的 dict 即可\n",
    "\n",
    "dict.fromkeys(l).keys()"
   ]
  },
  {
   "cell_type": "markdown",
   "id": "d63f2c2e-66e7-43e8-9c96-37000f1b9f51",
   "metadata": {},
   "source": [
    "### set 字面量"
   ]
  },
  {
   "cell_type": "code",
   "execution_count": 7,
   "id": "3bb7ddc7-bd21-4477-9e4e-bda9b612e9dd",
   "metadata": {},
   "outputs": [],
   "source": [
    "# 在 Python 3 中，集合的标准字符串表示形式始终使用 {...} 表示法，唯有空集例外"
   ]
  },
  {
   "cell_type": "code",
   "execution_count": 8,
   "id": "76dd16d7-b836-4d0f-b31d-a9fc91901112",
   "metadata": {},
   "outputs": [
    {
     "data": {
      "text/plain": [
       "set"
      ]
     },
     "execution_count": 8,
     "metadata": {},
     "output_type": "execute_result"
    }
   ],
   "source": [
    "s = {1}\n",
    "type(s)"
   ]
  },
  {
   "cell_type": "code",
   "execution_count": 9,
   "id": "a58b5ebb-b0c9-494b-8d23-dcafd1661486",
   "metadata": {},
   "outputs": [
    {
     "data": {
      "text/plain": [
       "{1}"
      ]
     },
     "execution_count": 9,
     "metadata": {},
     "output_type": "execute_result"
    }
   ],
   "source": [
    "s"
   ]
  },
  {
   "cell_type": "code",
   "execution_count": 10,
   "id": "64f9fb2b-39cc-41c2-af68-03705ea11327",
   "metadata": {},
   "outputs": [
    {
     "data": {
      "text/plain": [
       "1"
      ]
     },
     "execution_count": 10,
     "metadata": {},
     "output_type": "execute_result"
    }
   ],
   "source": [
    "s.pop()"
   ]
  },
  {
   "cell_type": "code",
   "execution_count": 11,
   "id": "deaf0a43-7dd6-433c-a060-59cde081491d",
   "metadata": {},
   "outputs": [
    {
     "data": {
      "text/plain": [
       "set()"
      ]
     },
     "execution_count": 11,
     "metadata": {},
     "output_type": "execute_result"
    }
   ],
   "source": [
    "s"
   ]
  },
  {
   "cell_type": "code",
   "execution_count": 13,
   "id": "049bdfc8-a568-4f6e-88aa-e3107a37be4c",
   "metadata": {},
   "outputs": [
    {
     "data": {
      "text/plain": [
       "frozenset({0, 1, 2, 3, 4, 5, 6, 7, 8, 9})"
      ]
     },
     "execution_count": 13,
     "metadata": {},
     "output_type": "execute_result"
    }
   ],
   "source": [
    "frozenset(range(10))"
   ]
  },
  {
   "cell_type": "markdown",
   "id": "7f449282-9011-44a4-bf34-ed93a51f3413",
   "metadata": {},
   "source": [
    "### 集合推导式"
   ]
  },
  {
   "cell_type": "code",
   "execution_count": 14,
   "id": "4f450d30-921c-494e-b047-c9c3431d46bb",
   "metadata": {},
   "outputs": [
    {
     "data": {
      "text/plain": [
       "{'#',\n",
       " '$',\n",
       " '%',\n",
       " '+',\n",
       " '<',\n",
       " '=',\n",
       " '>',\n",
       " '¢',\n",
       " '£',\n",
       " '¤',\n",
       " '¥',\n",
       " '§',\n",
       " '©',\n",
       " '¬',\n",
       " '®',\n",
       " '°',\n",
       " '±',\n",
       " 'µ',\n",
       " '¶',\n",
       " '×',\n",
       " '÷'}"
      ]
     },
     "execution_count": 14,
     "metadata": {},
     "output_type": "execute_result"
    }
   ],
   "source": [
    "from unicodedata import name\n",
    "\n",
    "{chr(i) for i in range(32, 256) if 'SIGN' in name(chr(i), '')}"
   ]
  },
  {
   "cell_type": "markdown",
   "id": "8e59c14a-3224-4e2a-8a8e-98fc1c51b46d",
   "metadata": {},
   "source": [
    "## 字典视图的集合运算"
   ]
  },
  {
   "cell_type": "code",
   "execution_count": 16,
   "id": "3cdf4696-7bf4-4a68-beb1-29216e43c76d",
   "metadata": {},
   "outputs": [],
   "source": [
    "d1 = dict(a=1, b=2, c=3, d=4)\n",
    "d2 = dict(b=20, d=40, e=50)"
   ]
  },
  {
   "cell_type": "code",
   "execution_count": 17,
   "id": "1301468f-dfd1-49c5-9be5-f9fe809f2916",
   "metadata": {},
   "outputs": [
    {
     "data": {
      "text/plain": [
       "{'b', 'd'}"
      ]
     },
     "execution_count": 17,
     "metadata": {},
     "output_type": "execute_result"
    }
   ],
   "source": [
    "d1.keys() & d2.keys()"
   ]
  },
  {
   "cell_type": "code",
   "execution_count": null,
   "id": "15abfa8c-7b6f-4870-8817-49d6450683eb",
   "metadata": {},
   "outputs": [],
   "source": []
  }
 ],
 "metadata": {
  "kernelspec": {
   "display_name": "Python 3 (ipykernel)",
   "language": "python",
   "name": "python3"
  },
  "language_info": {
   "codemirror_mode": {
    "name": "ipython",
    "version": 3
   },
   "file_extension": ".py",
   "mimetype": "text/x-python",
   "name": "python",
   "nbconvert_exporter": "python",
   "pygments_lexer": "ipython3",
   "version": "3.9.7"
  }
 },
 "nbformat": 4,
 "nbformat_minor": 5
}
