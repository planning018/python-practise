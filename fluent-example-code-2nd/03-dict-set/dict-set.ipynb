{
 "cells": [
  {
   "cell_type": "code",
   "execution_count": 1,
   "id": "aaeefc3c-6deb-4a07-bdda-c8d768348745",
   "metadata": {},
   "outputs": [
    {
     "name": "stdout",
     "output_type": "stream",
     "text": [
      "3.9.7 (default, Sep 16 2021, 08:50:36) \n",
      "[Clang 10.0.0 ]\n"
     ]
    }
   ],
   "source": [
    "import sys\n",
    "\n",
    "print(sys.version)"
   ]
  },
  {
   "cell_type": "markdown",
   "id": "f485939d-4747-4fa8-8221-1d8ee1a11570",
   "metadata": {},
   "source": [
    "## 字典的现代句法"
   ]
  },
  {
   "cell_type": "markdown",
   "id": "86afe476-9fd1-4d10-8bcc-5b262537619a",
   "metadata": {},
   "source": [
    "### 字典推导式"
   ]
  },
  {
   "cell_type": "code",
   "execution_count": 2,
   "id": "f67c8a33-b3d7-4999-93eb-7c5efebf844d",
   "metadata": {},
   "outputs": [],
   "source": [
    "dial_codes = [\n",
    "    (86, 'China'),\n",
    "    (91, 'India'),\n",
    "    (1, 'United States'),\n",
    "    (62, 'Indonesia'),\n",
    "    (55, 'Brazil'),\n",
    "    (92, 'Pakistan'),\n",
    "    (880, 'Bangladesh'),\n",
    "    (234, 'Nigeria'),\n",
    "    (7, 'Russia'),\n",
    "    (81, 'Japan'),\n",
    "]"
   ]
  },
  {
   "cell_type": "code",
   "execution_count": 3,
   "id": "5efc5499-baae-4f5a-ac3e-5bea01180def",
   "metadata": {},
   "outputs": [
    {
     "data": {
      "text/plain": [
       "{'China': 86,\n",
       " 'India': 91,\n",
       " 'United States': 1,\n",
       " 'Indonesia': 62,\n",
       " 'Brazil': 55,\n",
       " 'Pakistan': 92,\n",
       " 'Bangladesh': 880,\n",
       " 'Nigeria': 234,\n",
       " 'Russia': 7,\n",
       " 'Japan': 81}"
      ]
     },
     "execution_count": 3,
     "metadata": {},
     "output_type": "execute_result"
    }
   ],
   "source": [
    "country_dial = {country: code for code, country in dial_codes}\n",
    "country_dial"
   ]
  },
  {
   "cell_type": "code",
   "execution_count": 7,
   "id": "cae0f86d-6be1-4514-9a3f-7a5dcca14da7",
   "metadata": {},
   "outputs": [
    {
     "data": {
      "text/plain": [
       "{55: 'BRAZIL', 62: 'INDONESIA', 7: 'RUSSIA', 1: 'UNITED STATES'}"
      ]
     },
     "execution_count": 7,
     "metadata": {},
     "output_type": "execute_result"
    }
   ],
   "source": [
    "{code:country.upper()\n",
    "    for country, code in sorted(country_dial.items())\n",
    "    if code < 70}"
   ]
  },
  {
   "cell_type": "markdown",
   "id": "ec5da707-c55b-4784-810f-e9f42381db51",
   "metadata": {},
   "source": [
    "### 映射拆包"
   ]
  },
  {
   "cell_type": "code",
   "execution_count": 8,
   "id": "b54f7176-3cef-4676-9a06-b852d86af6ad",
   "metadata": {},
   "outputs": [],
   "source": [
    "def dump(**kwargs):\n",
    "    return kwargs"
   ]
  },
  {
   "cell_type": "code",
   "execution_count": 9,
   "id": "8d474373-da13-4a6a-a415-74642e3addd3",
   "metadata": {},
   "outputs": [
    {
     "data": {
      "text/plain": [
       "{'x': 1, 'y': 2, 'z': 3}"
      ]
     },
     "execution_count": 9,
     "metadata": {},
     "output_type": "execute_result"
    }
   ],
   "source": [
    "dump(**{'x': 1}, y=2, **{'z': 3})"
   ]
  },
  {
   "cell_type": "code",
   "execution_count": 10,
   "id": "abf00147-452d-410e-8c51-f44203621339",
   "metadata": {},
   "outputs": [
    {
     "data": {
      "text/plain": [
       "{'a': 0, 'x': 4, 'y': 2, 'z': 3}"
      ]
     },
     "execution_count": 10,
     "metadata": {},
     "output_type": "execute_result"
    }
   ],
   "source": [
    "{'a':0, **{'x': 1}, 'y':2, **{'z': 3, 'x': 4}}"
   ]
  },
  {
   "cell_type": "markdown",
   "id": "dfff5e89-d499-4082-ac7b-117e5e357111",
   "metadata": {},
   "source": [
    "### 使用 | 合并映射"
   ]
  },
  {
   "cell_type": "code",
   "execution_count": 11,
   "id": "952d890f-84c4-4a69-8d5e-e1107e60daa3",
   "metadata": {},
   "outputs": [
    {
     "data": {
      "text/plain": [
       "{'a': 2, 'b': 4, 'c': 6}"
      ]
     },
     "execution_count": 11,
     "metadata": {},
     "output_type": "execute_result"
    }
   ],
   "source": [
    "d1 = {'a':1, 'b':3}\n",
    "d2 = {'a':2, 'b':4, 'c':6}\n",
    "d1 | d2"
   ]
  },
  {
   "cell_type": "code",
   "execution_count": 12,
   "id": "5b92f3ad-c56a-4f1b-8965-a008fa929680",
   "metadata": {},
   "outputs": [
    {
     "data": {
      "text/plain": [
       "{'a': 1, 'b': 3}"
      ]
     },
     "execution_count": 12,
     "metadata": {},
     "output_type": "execute_result"
    }
   ],
   "source": [
    "d1"
   ]
  },
  {
   "cell_type": "code",
   "execution_count": 13,
   "id": "e3993651-be0e-4aaa-91a1-046428c6a261",
   "metadata": {},
   "outputs": [
    {
     "data": {
      "text/plain": [
       "{'a': 2, 'b': 4, 'c': 6}"
      ]
     },
     "execution_count": 13,
     "metadata": {},
     "output_type": "execute_result"
    }
   ],
   "source": [
    "d2"
   ]
  },
  {
   "cell_type": "code",
   "execution_count": 14,
   "id": "b75c266b-1121-459e-a1ff-faf48c6414c1",
   "metadata": {},
   "outputs": [
    {
     "data": {
      "text/plain": [
       "{'a': 2, 'b': 4, 'c': 6}"
      ]
     },
     "execution_count": 14,
     "metadata": {},
     "output_type": "execute_result"
    }
   ],
   "source": [
    "d1 |= d2\n",
    "d1"
   ]
  },
  {
   "cell_type": "markdown",
   "id": "8d7d6c72-8dd8-4652-9615-17cbb417dfbc",
   "metadata": {},
   "source": [
    "## 使用模式匹配处理映射"
   ]
  },
  {
   "cell_type": "code",
   "execution_count": 1,
   "id": "522b70f3-d4d6-429a-80d2-d59e0aedb509",
   "metadata": {},
   "outputs": [],
   "source": [
    "# Python 3.10 支持"
   ]
  },
  {
   "cell_type": "code",
   "execution_count": 2,
   "id": "dd3032f3-bbbf-4c8c-9285-7344a0444124",
   "metadata": {},
   "outputs": [],
   "source": [
    "# def get_creators(record: dict) -> list:\n",
    "#     match record:\n",
    "#         case {'type': 'book', 'api': 2, 'authors': [*names]}:  # <1>\n",
    "#             return names\n",
    "#         case {'type': 'book', 'api': 1, 'author': name}:  # <2>\n",
    "#             return [name]\n",
    "#         case {'type': 'book'}:  # <3>\n",
    "#             raise ValueError(f\"Invalid 'book' record: {record!r}\")\n",
    "#         case {'type': 'movie', 'director': name}:  # <4>\n",
    "#             return [name]\n",
    "#         case _:  # <5>\n",
    "#             raise ValueError(f'Invalid record: {record!r}')"
   ]
  },
  {
   "cell_type": "markdown",
   "id": "6e4e7dfd-2f01-4d61-a86f-911cae85e356",
   "metadata": {},
   "source": [
    "## 映射类型的标准 API"
   ]
  },
  {
   "cell_type": "code",
   "execution_count": 3,
   "id": "2892e249-06ad-4309-94f7-3080e97b8847",
   "metadata": {},
   "outputs": [],
   "source": [
    "my_dict = {}"
   ]
  },
  {
   "cell_type": "code",
   "execution_count": 5,
   "id": "e865c00b-644b-49db-a91f-a8b84d905cdc",
   "metadata": {},
   "outputs": [
    {
     "data": {
      "text/plain": [
       "True"
      ]
     },
     "execution_count": 5,
     "metadata": {},
     "output_type": "execute_result"
    }
   ],
   "source": [
    "from collections import abc\n",
    "\n",
    "isinstance(my_dict, abc.Mapping)"
   ]
  },
  {
   "cell_type": "code",
   "execution_count": 6,
   "id": "32a27875-d617-4e36-9e75-972fbe63bc5e",
   "metadata": {},
   "outputs": [
    {
     "data": {
      "text/plain": [
       "True"
      ]
     },
     "execution_count": 6,
     "metadata": {},
     "output_type": "execute_result"
    }
   ],
   "source": [
    "isinstance(my_dict, abc.MutableMapping)"
   ]
  },
  {
   "cell_type": "markdown",
   "id": "2d1b9405-4379-4679-96bf-33ed9374e738",
   "metadata": {},
   "source": [
    "### 可哈希指什么"
   ]
  },
  {
   "cell_type": "code",
   "execution_count": 7,
   "id": "854110a8-0e0a-492d-bddb-068d1f7afb5c",
   "metadata": {},
   "outputs": [],
   "source": [
    "tt = (1, 2, (30, 40))"
   ]
  },
  {
   "cell_type": "code",
   "execution_count": 8,
   "id": "a2df57c3-574a-402b-8364-23d2602f79d1",
   "metadata": {},
   "outputs": [
    {
     "data": {
      "text/plain": [
       "-3907003130834322577"
      ]
     },
     "execution_count": 8,
     "metadata": {},
     "output_type": "execute_result"
    }
   ],
   "source": [
    "hash(tt)"
   ]
  },
  {
   "cell_type": "code",
   "execution_count": 9,
   "id": "d37ed48e-ab00-4da8-af30-b8202a04c1fd",
   "metadata": {},
   "outputs": [],
   "source": [
    "t1 = (1, 2, [30, 40])"
   ]
  },
  {
   "cell_type": "code",
   "execution_count": 10,
   "id": "09394bc9-0d9e-428b-a33d-d28ef6472e77",
   "metadata": {},
   "outputs": [
    {
     "ename": "TypeError",
     "evalue": "unhashable type: 'list'",
     "output_type": "error",
     "traceback": [
      "\u001b[0;31m---------------------------------------------------------------------------\u001b[0m",
      "\u001b[0;31mTypeError\u001b[0m                                 Traceback (most recent call last)",
      "\u001b[0;32m/var/folders/9h/t19xzfs55gb8qvvt24mncq7c0000gn/T/ipykernel_74328/2494151989.py\u001b[0m in \u001b[0;36m<module>\u001b[0;34m\u001b[0m\n\u001b[0;32m----> 1\u001b[0;31m \u001b[0mhash\u001b[0m\u001b[0;34m(\u001b[0m\u001b[0mt1\u001b[0m\u001b[0;34m)\u001b[0m\u001b[0;34m\u001b[0m\u001b[0;34m\u001b[0m\u001b[0m\n\u001b[0m",
      "\u001b[0;31mTypeError\u001b[0m: unhashable type: 'list'"
     ]
    }
   ],
   "source": [
    "hash(t1)"
   ]
  },
  {
   "cell_type": "code",
   "execution_count": 11,
   "id": "1fcaba85-788a-4398-88c6-492b438c94f7",
   "metadata": {},
   "outputs": [],
   "source": [
    "# 仅当所有项均可哈希，tuple 对象才是可哈希的"
   ]
  },
  {
   "cell_type": "code",
   "execution_count": 13,
   "id": "242d5531-0407-4bf0-a87d-6c065ca32b2d",
   "metadata": {},
   "outputs": [
    {
     "data": {
      "text/plain": [
       "5149391500123939311"
      ]
     },
     "execution_count": 13,
     "metadata": {},
     "output_type": "execute_result"
    }
   ],
   "source": [
    "tf = (1, 2, frozenset([30, 40]))\n",
    "hash(tf)"
   ]
  },
  {
   "cell_type": "markdown",
   "id": "e774df59-71a7-4b10-b5b4-f6995b933687",
   "metadata": {},
   "source": [
    "### 插入或更新可变的值"
   ]
  },
  {
   "cell_type": "code",
   "execution_count": null,
   "id": "f601a37b-aa16-4d39-b72e-e80de2822ded",
   "metadata": {},
   "outputs": [],
   "source": []
  }
 ],
 "metadata": {
  "kernelspec": {
   "display_name": "Python 3 (ipykernel)",
   "language": "python",
   "name": "python3"
  },
  "language_info": {
   "codemirror_mode": {
    "name": "ipython",
    "version": 3
   },
   "file_extension": ".py",
   "mimetype": "text/x-python",
   "name": "python",
   "nbconvert_exporter": "python",
   "pygments_lexer": "ipython3",
   "version": "3.9.7"
  }
 },
 "nbformat": 4,
 "nbformat_minor": 5
}
